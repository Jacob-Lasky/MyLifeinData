{
 "cells": [
  {
   "cell_type": "code",
   "execution_count": 23,
   "metadata": {},
   "outputs": [],
   "source": [
    "# export from https://s.sleepcycle.com/\n",
    "# or using API\n",
    "\n",
    "import pandas as pd\n",
    "import numpy as np\n",
    "import datetime as dt"
   ]
  },
  {
   "cell_type": "code",
   "execution_count": 3,
   "metadata": {},
   "outputs": [],
   "source": [
    "sleep_data = pd.read_json(\"F:\\GitHub\\Projects\\MyLifeinData\\data\\data_json.txt\")"
   ]
  },
  {
   "cell_type": "code",
   "execution_count": 181,
   "metadata": {},
   "outputs": [
    {
     "data": {
      "text/html": [
       "<div>\n",
       "<style scoped>\n",
       "    .dataframe tbody tr th:only-of-type {\n",
       "        vertical-align: middle;\n",
       "    }\n",
       "\n",
       "    .dataframe tbody tr th {\n",
       "        vertical-align: top;\n",
       "    }\n",
       "\n",
       "    .dataframe thead th {\n",
       "        text-align: right;\n",
       "    }\n",
       "</style>\n",
       "<table border=\"1\" class=\"dataframe\">\n",
       "  <thead>\n",
       "    <tr style=\"text-align: right;\">\n",
       "      <th></th>\n",
       "      <th>start</th>\n",
       "      <th>stop</th>\n",
       "      <th>events</th>\n",
       "    </tr>\n",
       "  </thead>\n",
       "  <tbody>\n",
       "    <tr>\n",
       "      <th>0</th>\n",
       "      <td>2020-03-07T00:34:37</td>\n",
       "      <td>2020-03-07T09:42:11</td>\n",
       "      <td>[[74.0, 1, 0.0524], [173.0, 1, 0.0418000000000...</td>\n",
       "    </tr>\n",
       "    <tr>\n",
       "      <th>1</th>\n",
       "      <td>2020-03-05T23:10:52</td>\n",
       "      <td>2020-03-06T07:04:58</td>\n",
       "      <td>[[90.0, 1, 0.007200000000000001], [163.0, 1, 0...</td>\n",
       "    </tr>\n",
       "    <tr>\n",
       "      <th>2</th>\n",
       "      <td>2020-03-04T22:37:16</td>\n",
       "      <td>2020-03-05T07:05:53</td>\n",
       "      <td>[[62.0, 1, 0.057300000000000004], [122.0, 1, 0...</td>\n",
       "    </tr>\n",
       "    <tr>\n",
       "      <th>3</th>\n",
       "      <td>2020-03-03T23:03:01</td>\n",
       "      <td>2020-03-04T06:27:04</td>\n",
       "      <td>[[80.0, 1, 0.0161], [141.0, 1, 0.0374], [207.0...</td>\n",
       "    </tr>\n",
       "    <tr>\n",
       "      <th>4</th>\n",
       "      <td>2020-03-02T22:49:36</td>\n",
       "      <td>2020-03-03T07:07:05</td>\n",
       "      <td>[[63.0, 1, 0.06420000000000001], [135.0, 1, 0....</td>\n",
       "    </tr>\n",
       "    <tr>\n",
       "      <th>...</th>\n",
       "      <td>...</td>\n",
       "      <td>...</td>\n",
       "      <td>...</td>\n",
       "    </tr>\n",
       "    <tr>\n",
       "      <th>168</th>\n",
       "      <td>2019-09-15T13:41:35</td>\n",
       "      <td>2019-09-15T16:02:46</td>\n",
       "      <td>[[310.0, 1, 0.0031000000000000003], [536.0, 1,...</td>\n",
       "    </tr>\n",
       "    <tr>\n",
       "      <th>169</th>\n",
       "      <td>2019-09-15T00:40:47</td>\n",
       "      <td>2019-09-15T08:26:17</td>\n",
       "      <td>[[242.0, 1, 0.0023], [302.0, 1, 0.0422], [1768...</td>\n",
       "    </tr>\n",
       "    <tr>\n",
       "      <th>170</th>\n",
       "      <td>2019-09-13T23:08:45</td>\n",
       "      <td>2019-09-14T08:57:23</td>\n",
       "      <td>[[68.0, 1, 0.0149], [176.0, 1, 0.0072000000000...</td>\n",
       "    </tr>\n",
       "    <tr>\n",
       "      <th>171</th>\n",
       "      <td>2019-09-12T23:04:08</td>\n",
       "      <td>2019-09-13T06:35:28</td>\n",
       "      <td>[[65.0, 1, 0.0631], [170.0, 1, 0.0125], [326.0...</td>\n",
       "    </tr>\n",
       "    <tr>\n",
       "      <th>172</th>\n",
       "      <td>2019-09-11T23:00:18</td>\n",
       "      <td>2019-09-12T06:35:16</td>\n",
       "      <td>[[173.0, 1, 0.0049], [242.0, 1, 0.005], [385.0...</td>\n",
       "    </tr>\n",
       "  </tbody>\n",
       "</table>\n",
       "<p>173 rows × 3 columns</p>\n",
       "</div>"
      ],
      "text/plain": [
       "                   start                 stop  \\\n",
       "0    2020-03-07T00:34:37  2020-03-07T09:42:11   \n",
       "1    2020-03-05T23:10:52  2020-03-06T07:04:58   \n",
       "2    2020-03-04T22:37:16  2020-03-05T07:05:53   \n",
       "3    2020-03-03T23:03:01  2020-03-04T06:27:04   \n",
       "4    2020-03-02T22:49:36  2020-03-03T07:07:05   \n",
       "..                   ...                  ...   \n",
       "168  2019-09-15T13:41:35  2019-09-15T16:02:46   \n",
       "169  2019-09-15T00:40:47  2019-09-15T08:26:17   \n",
       "170  2019-09-13T23:08:45  2019-09-14T08:57:23   \n",
       "171  2019-09-12T23:04:08  2019-09-13T06:35:28   \n",
       "172  2019-09-11T23:00:18  2019-09-12T06:35:16   \n",
       "\n",
       "                                                events  \n",
       "0    [[74.0, 1, 0.0524], [173.0, 1, 0.0418000000000...  \n",
       "1    [[90.0, 1, 0.007200000000000001], [163.0, 1, 0...  \n",
       "2    [[62.0, 1, 0.057300000000000004], [122.0, 1, 0...  \n",
       "3    [[80.0, 1, 0.0161], [141.0, 1, 0.0374], [207.0...  \n",
       "4    [[63.0, 1, 0.06420000000000001], [135.0, 1, 0....  \n",
       "..                                                 ...  \n",
       "168  [[310.0, 1, 0.0031000000000000003], [536.0, 1,...  \n",
       "169  [[242.0, 1, 0.0023], [302.0, 1, 0.0422], [1768...  \n",
       "170  [[68.0, 1, 0.0149], [176.0, 1, 0.0072000000000...  \n",
       "171  [[65.0, 1, 0.0631], [170.0, 1, 0.0125], [326.0...  \n",
       "172  [[173.0, 1, 0.0049], [242.0, 1, 0.005], [385.0...  \n",
       "\n",
       "[173 rows x 3 columns]"
      ]
     },
     "execution_count": 181,
     "metadata": {},
     "output_type": "execute_result"
    }
   ],
   "source": [
    "sleep_data"
   ]
  },
  {
   "cell_type": "code",
   "execution_count": 30,
   "metadata": {},
   "outputs": [],
   "source": [
    "timeformat = \"%Y-%m-%dT%H:%M:%S\""
   ]
  },
  {
   "cell_type": "code",
   "execution_count": null,
   "metadata": {},
   "outputs": [],
   "source": [
    "# plot inspiration: https://www.reddit.com/r/dataisbeautiful/comments/e83t5y/i_logged_2000_nights_of_sleep_6_years_oc/"
   ]
  },
  {
   "cell_type": "code",
   "execution_count": 167,
   "metadata": {},
   "outputs": [
    {
     "data": {
      "text/plain": [
       "datetime.datetime(2019, 9, 12, 23, 0, 18)"
      ]
     },
     "execution_count": 167,
     "metadata": {},
     "output_type": "execute_result"
    }
   ],
   "source": [
    "start + dt.timedelta(days=1)"
   ]
  },
  {
   "cell_type": "code",
   "execution_count": 190,
   "metadata": {},
   "outputs": [],
   "source": [
    "start_dates = []\n",
    "start_times = []\n",
    "wake_dates = []\n",
    "wake_times = []\n",
    "real_starts = []\n",
    "total_times = []\n",
    "\n",
    "for day in sleep_data.T:\n",
    "    # start and stop date and times of the app being on\n",
    "    start = dt.datetime.strptime(sleep_data['start'][day], timeformat)\n",
    "    start_date = dt.datetime.strftime(start, \"%Y-%m-%d\")\n",
    "    start_time = dt.datetime.strftime(start, \"%H:%M\")\n",
    "    \n",
    "    wake = dt.datetime.strptime(sleep_data['stop'][day], timeformat)\n",
    "    wake_date = dt.datetime.strftime(wake, \"%Y-%m-%d\")\n",
    "    wake_time = dt.datetime.strftime(wake, \"%H:%M\")\n",
    "    \n",
    "    # 'real' start date, which is essentially the date I should've gone to sleep on, regardless of the midnight cutoff\n",
    "    real_start = dt.datetime.strftime(wake - dt.timedelta(days=1), \"%Y-%m-%d\")\n",
    "    \n",
    "    # total amount of sleep in seconds, converted to hours\n",
    "    total_time = wake-start\n",
    "        # convert our timedelta object to float\n",
    "    seconds = total_time.total_seconds()\n",
    "        # get our hours, minutes, and partial_hours (instead of 30 minutes, it is .5 hours)\n",
    "    hours = int(seconds // 3600)\n",
    "    minutes = int((seconds % 3600) // 60)\n",
    "    partial_hours = minutes / 60\n",
    "        # get the total ours slept 7h and 30m = 7.5\n",
    "    total_hours = np.round(hours+partial_hours, 2)    \n",
    "    \n",
    "    # trying to see what these sleep vals do / are\n",
    "    sleep_val1 = 0\n",
    "    sleep_val2 = 0\n",
    "    for event in sleep_data['events'][day]:\n",
    "        # the number of seconds the app has been on associated with this event\n",
    "        sleep_second = event[0]\n",
    "        # this value seems to always be 1\n",
    "        misc1 = event[1]\n",
    "        if misc1 != 1:\n",
    "            print(\"hmm, this value always seems to be 1, but now it is {0}\".format(misc1))\n",
    "        #\n",
    "        misc2 = event[2]\n",
    "        sleep_val1 += misc1\n",
    "        sleep_val2 += misc2\n",
    "#     print(sleep_val1)\n",
    "#     print(np.round(sleep_val2,4))\n",
    "    start_dates.append(start_date)\n",
    "    start_times.append(start_time)\n",
    "    wake_dates.append(wake_date)\n",
    "    wake_times.append(wake_time)\n",
    "    real_starts.append(real_start)\n",
    "    total_times.append(total_hours)"
   ]
  },
  {
   "cell_type": "code",
   "execution_count": 191,
   "metadata": {},
   "outputs": [],
   "source": [
    "# put all of the data into a nice dataframe, columns needs to be set as indicies at first but then we transpose it\n",
    "plotable_data = pd.DataFrame(index=['StartDate', 'StartTime', 'WakeDate', 'WakeTime', 'RealStart', 'TotalTime'],\n",
    "                             data = [start_dates, start_times, wake_dates, wake_times, real_starts,  total_times]).T"
   ]
  },
  {
   "cell_type": "code",
   "execution_count": 192,
   "metadata": {},
   "outputs": [
    {
     "data": {
      "text/html": [
       "<div>\n",
       "<style scoped>\n",
       "    .dataframe tbody tr th:only-of-type {\n",
       "        vertical-align: middle;\n",
       "    }\n",
       "\n",
       "    .dataframe tbody tr th {\n",
       "        vertical-align: top;\n",
       "    }\n",
       "\n",
       "    .dataframe thead th {\n",
       "        text-align: right;\n",
       "    }\n",
       "</style>\n",
       "<table border=\"1\" class=\"dataframe\">\n",
       "  <thead>\n",
       "    <tr style=\"text-align: right;\">\n",
       "      <th></th>\n",
       "      <th>StartDate</th>\n",
       "      <th>StartTime</th>\n",
       "      <th>WakeDate</th>\n",
       "      <th>WakeTime</th>\n",
       "      <th>RealStart</th>\n",
       "      <th>TotalTime</th>\n",
       "    </tr>\n",
       "  </thead>\n",
       "  <tbody>\n",
       "    <tr>\n",
       "      <th>0</th>\n",
       "      <td>2020-03-07</td>\n",
       "      <td>00:34</td>\n",
       "      <td>2020-03-07</td>\n",
       "      <td>09:42</td>\n",
       "      <td>2020-03-06</td>\n",
       "      <td>9.12</td>\n",
       "    </tr>\n",
       "    <tr>\n",
       "      <th>1</th>\n",
       "      <td>2020-03-05</td>\n",
       "      <td>23:10</td>\n",
       "      <td>2020-03-06</td>\n",
       "      <td>07:04</td>\n",
       "      <td>2020-03-05</td>\n",
       "      <td>7.9</td>\n",
       "    </tr>\n",
       "    <tr>\n",
       "      <th>2</th>\n",
       "      <td>2020-03-04</td>\n",
       "      <td>22:37</td>\n",
       "      <td>2020-03-05</td>\n",
       "      <td>07:05</td>\n",
       "      <td>2020-03-04</td>\n",
       "      <td>8.47</td>\n",
       "    </tr>\n",
       "    <tr>\n",
       "      <th>3</th>\n",
       "      <td>2020-03-03</td>\n",
       "      <td>23:03</td>\n",
       "      <td>2020-03-04</td>\n",
       "      <td>06:27</td>\n",
       "      <td>2020-03-03</td>\n",
       "      <td>7.4</td>\n",
       "    </tr>\n",
       "    <tr>\n",
       "      <th>4</th>\n",
       "      <td>2020-03-02</td>\n",
       "      <td>22:49</td>\n",
       "      <td>2020-03-03</td>\n",
       "      <td>07:07</td>\n",
       "      <td>2020-03-02</td>\n",
       "      <td>8.28</td>\n",
       "    </tr>\n",
       "    <tr>\n",
       "      <th>...</th>\n",
       "      <td>...</td>\n",
       "      <td>...</td>\n",
       "      <td>...</td>\n",
       "      <td>...</td>\n",
       "      <td>...</td>\n",
       "      <td>...</td>\n",
       "    </tr>\n",
       "    <tr>\n",
       "      <th>168</th>\n",
       "      <td>2019-09-15</td>\n",
       "      <td>13:41</td>\n",
       "      <td>2019-09-15</td>\n",
       "      <td>16:02</td>\n",
       "      <td>2019-09-14</td>\n",
       "      <td>2.35</td>\n",
       "    </tr>\n",
       "    <tr>\n",
       "      <th>169</th>\n",
       "      <td>2019-09-15</td>\n",
       "      <td>00:40</td>\n",
       "      <td>2019-09-15</td>\n",
       "      <td>08:26</td>\n",
       "      <td>2019-09-14</td>\n",
       "      <td>7.75</td>\n",
       "    </tr>\n",
       "    <tr>\n",
       "      <th>170</th>\n",
       "      <td>2019-09-13</td>\n",
       "      <td>23:08</td>\n",
       "      <td>2019-09-14</td>\n",
       "      <td>08:57</td>\n",
       "      <td>2019-09-13</td>\n",
       "      <td>9.8</td>\n",
       "    </tr>\n",
       "    <tr>\n",
       "      <th>171</th>\n",
       "      <td>2019-09-12</td>\n",
       "      <td>23:04</td>\n",
       "      <td>2019-09-13</td>\n",
       "      <td>06:35</td>\n",
       "      <td>2019-09-12</td>\n",
       "      <td>7.52</td>\n",
       "    </tr>\n",
       "    <tr>\n",
       "      <th>172</th>\n",
       "      <td>2019-09-11</td>\n",
       "      <td>23:00</td>\n",
       "      <td>2019-09-12</td>\n",
       "      <td>06:35</td>\n",
       "      <td>2019-09-11</td>\n",
       "      <td>7.57</td>\n",
       "    </tr>\n",
       "  </tbody>\n",
       "</table>\n",
       "<p>173 rows × 6 columns</p>\n",
       "</div>"
      ],
      "text/plain": [
       "      StartDate StartTime    WakeDate WakeTime   RealStart TotalTime\n",
       "0    2020-03-07     00:34  2020-03-07    09:42  2020-03-06      9.12\n",
       "1    2020-03-05     23:10  2020-03-06    07:04  2020-03-05       7.9\n",
       "2    2020-03-04     22:37  2020-03-05    07:05  2020-03-04      8.47\n",
       "3    2020-03-03     23:03  2020-03-04    06:27  2020-03-03       7.4\n",
       "4    2020-03-02     22:49  2020-03-03    07:07  2020-03-02      8.28\n",
       "..          ...       ...         ...      ...         ...       ...\n",
       "168  2019-09-15     13:41  2019-09-15    16:02  2019-09-14      2.35\n",
       "169  2019-09-15     00:40  2019-09-15    08:26  2019-09-14      7.75\n",
       "170  2019-09-13     23:08  2019-09-14    08:57  2019-09-13       9.8\n",
       "171  2019-09-12     23:04  2019-09-13    06:35  2019-09-12      7.52\n",
       "172  2019-09-11     23:00  2019-09-12    06:35  2019-09-11      7.57\n",
       "\n",
       "[173 rows x 6 columns]"
      ]
     },
     "execution_count": 192,
     "metadata": {},
     "output_type": "execute_result"
    }
   ],
   "source": [
    "plotable_data"
   ]
  },
  {
   "cell_type": "code",
   "execution_count": 163,
   "metadata": {},
   "outputs": [],
   "source": [
    "import plotly.express as px\n",
    "import plotly.graph_objects as go"
   ]
  },
  {
   "cell_type": "code",
   "execution_count": 162,
   "metadata": {},
   "outputs": [
    {
     "data": {
      "application/vnd.plotly.v1+json": {
       "config": {
        "plotlyServerURL": "https://plot.ly"
       },
       "data": [
        {
         "hoverlabel": {
          "namelength": 0
         },
         "hovertemplate": "StartDate=%{x}<br>TotalTime=%{y}",
         "legendgroup": "",
         "line": {
          "color": "#636efa",
          "dash": "solid"
         },
         "mode": "lines",
         "name": "",
         "showlegend": false,
         "type": "scatter",
         "x": [
          "2020-03-07",
          "2020-03-05",
          "2020-03-04",
          "2020-03-03",
          "2020-03-02",
          "2020-03-01",
          "2020-02-29",
          "2020-02-28",
          "2020-02-27",
          "2020-02-26",
          "2020-02-25",
          "2020-02-24",
          "2020-02-24",
          "2020-02-23",
          "2020-02-22",
          "2020-02-20",
          "2020-02-20",
          "2020-02-18",
          "2020-02-17",
          "2020-02-16",
          "2020-02-15",
          "2020-02-15",
          "2020-02-13",
          "2020-02-12",
          "2020-02-11",
          "2020-02-10",
          "2020-02-09",
          "2020-02-09",
          "2020-02-08",
          "2020-02-07",
          "2020-02-05",
          "2020-02-04",
          "2020-02-03",
          "2020-02-03",
          "2020-02-02",
          "2020-02-01",
          "2020-01-31",
          "2020-01-30",
          "2020-01-29",
          "2020-01-28",
          "2020-01-27",
          "2020-01-27",
          "2020-01-26",
          "2020-01-24",
          "2020-01-23",
          "2020-01-22",
          "2020-01-21",
          "2020-01-20",
          "2020-01-19",
          "2020-01-19",
          "2020-01-18",
          "2020-01-17",
          "2020-01-15",
          "2020-01-14",
          "2020-01-14",
          "2020-01-12",
          "2020-01-12",
          "2020-01-11",
          "2020-01-09",
          "2020-01-08",
          "2020-01-07",
          "2020-01-06",
          "2020-01-05",
          "2020-01-05",
          "2020-01-04",
          "2020-01-02",
          "2020-01-02",
          "2020-01-02",
          "2020-01-01",
          "2019-12-31",
          "2019-12-30",
          "2019-12-29",
          "2019-12-28",
          "2019-12-27",
          "2019-12-25",
          "2019-12-25",
          "2019-12-23",
          "2019-12-22",
          "2019-12-21",
          "2019-12-21",
          "2019-12-19",
          "2019-12-18",
          "2019-12-17",
          "2019-12-16",
          "2019-12-15",
          "2019-12-14",
          "2019-12-14",
          "2019-12-12",
          "2019-12-11",
          "2019-12-10",
          "2019-12-09",
          "2019-12-08",
          "2019-12-08",
          "2019-12-07",
          "2019-12-05",
          "2019-12-04",
          "2019-12-03",
          "2019-12-03",
          "2019-12-02",
          "2019-12-01",
          "2019-12-01",
          "2019-11-30",
          "2019-11-29",
          "2019-11-28",
          "2019-11-27",
          "2019-11-25",
          "2019-11-25",
          "2019-11-25",
          "2019-11-24",
          "2019-11-23",
          "2019-11-23",
          "2019-11-21",
          "2019-11-20",
          "2019-11-19",
          "2019-11-18",
          "2019-11-17",
          "2019-11-16",
          "2019-11-14",
          "2019-11-13",
          "2019-11-12",
          "2019-11-12",
          "2019-11-11",
          "2019-11-10",
          "2019-11-08",
          "2019-11-08",
          "2019-11-06",
          "2019-11-05",
          "2019-11-04",
          "2019-11-03",
          "2019-11-02",
          "2019-10-31",
          "2019-10-30",
          "2019-10-29",
          "2019-10-28",
          "2019-10-27",
          "2019-10-27",
          "2019-10-26",
          "2019-10-24",
          "2019-10-23",
          "2019-10-22",
          "2019-10-20",
          "2019-10-19",
          "2019-10-18",
          "2019-10-17",
          "2019-10-16",
          "2019-10-14",
          "2019-10-13",
          "2019-10-13",
          "2019-10-12",
          "2019-10-09",
          "2019-10-07",
          "2019-10-07",
          "2019-10-07",
          "2019-10-06",
          "2019-10-05",
          "2019-10-03",
          "2019-09-30",
          "2019-09-29",
          "2019-09-27",
          "2019-09-26",
          "2019-09-24",
          "2019-09-23",
          "2019-09-23",
          "2019-09-21",
          "2019-09-20",
          "2019-09-19",
          "2019-09-17",
          "2019-09-16",
          "2019-09-15",
          "2019-09-15",
          "2019-09-13",
          "2019-09-12",
          "2019-09-11"
         ],
         "xaxis": "x",
         "y": [
          9.12,
          7.9,
          8.47,
          7.4,
          8.28,
          7.75,
          7.45,
          8.82,
          7.73,
          7.47,
          7.75,
          8.37,
          6.93,
          10.22,
          9,
          8.5,
          7.05,
          8.23,
          7.77,
          8.9,
          10.92,
          9.05,
          7.28,
          8.43,
          8.23,
          8.3,
          8.28,
          9.42,
          8.45,
          4.98,
          8.37,
          8.28,
          8.02,
          7.37,
          8.25,
          8.57,
          3.2,
          3.97,
          8.12,
          7.87,
          8.37,
          7.23,
          6.88,
          11.33,
          8.3,
          9.42,
          8.08,
          6.9,
          10.07,
          8.17,
          9.43,
          6.65,
          7.52,
          8.37,
          6.78,
          8.7,
          7.22,
          8.92,
          8.73,
          8.38,
          8.65,
          8.08,
          8.78,
          5.7,
          10.48,
          8.17,
          6.03,
          0.52,
          9.22,
          9,
          7.95,
          9.05,
          8.58,
          7.75,
          9.05,
          8.52,
          9.93,
          6.7,
          9.43,
          8.07,
          7.38,
          7.95,
          8.03,
          7.97,
          6.72,
          9.92,
          7.35,
          8.32,
          7.7,
          8.68,
          6.22,
          7.6,
          9.83,
          6.92,
          8.9,
          7.33,
          7.98,
          1.18,
          7.7,
          7.78,
          8.88,
          8.23,
          7.57,
          7.82,
          8.32,
          8.07,
          2.12,
          6.3,
          5.58,
          3.53,
          7.05,
          7.33,
          7.93,
          8.05,
          7.72,
          8.18,
          9.03,
          7.87,
          8.22,
          8.6,
          6.75,
          6.32,
          8.12,
          10.38,
          6.02,
          7.17,
          8.33,
          5.93,
          7.8,
          9.48,
          6.3,
          7.78,
          7.55,
          8.05,
          7.33,
          8.88,
          8.5,
          7.63,
          7.72,
          7.08,
          8.02,
          8.33,
          9.37,
          7.75,
          6.95,
          6.33,
          7.02,
          9.87,
          9.28,
          7.78,
          7.92,
          4.43,
          0.67,
          9.3,
          8.4,
          8.1,
          4.92,
          9.72,
          9.5,
          7.67,
          7.22,
          7.83,
          6.82,
          8.65,
          8.17,
          7.55,
          7.43,
          8.02,
          2.35,
          7.75,
          9.8,
          7.52,
          7.57
         ],
         "yaxis": "y"
        }
       ],
       "layout": {
        "height": 600,
        "legend": {
         "tracegroupgap": 0
        },
        "margin": {
         "t": 60
        },
        "template": {
         "data": {
          "bar": [
           {
            "error_x": {
             "color": "#2a3f5f"
            },
            "error_y": {
             "color": "#2a3f5f"
            },
            "marker": {
             "line": {
              "color": "#E5ECF6",
              "width": 0.5
             }
            },
            "type": "bar"
           }
          ],
          "barpolar": [
           {
            "marker": {
             "line": {
              "color": "#E5ECF6",
              "width": 0.5
             }
            },
            "type": "barpolar"
           }
          ],
          "carpet": [
           {
            "aaxis": {
             "endlinecolor": "#2a3f5f",
             "gridcolor": "white",
             "linecolor": "white",
             "minorgridcolor": "white",
             "startlinecolor": "#2a3f5f"
            },
            "baxis": {
             "endlinecolor": "#2a3f5f",
             "gridcolor": "white",
             "linecolor": "white",
             "minorgridcolor": "white",
             "startlinecolor": "#2a3f5f"
            },
            "type": "carpet"
           }
          ],
          "choropleth": [
           {
            "colorbar": {
             "outlinewidth": 0,
             "ticks": ""
            },
            "type": "choropleth"
           }
          ],
          "contour": [
           {
            "colorbar": {
             "outlinewidth": 0,
             "ticks": ""
            },
            "colorscale": [
             [
              0,
              "#0d0887"
             ],
             [
              0.1111111111111111,
              "#46039f"
             ],
             [
              0.2222222222222222,
              "#7201a8"
             ],
             [
              0.3333333333333333,
              "#9c179e"
             ],
             [
              0.4444444444444444,
              "#bd3786"
             ],
             [
              0.5555555555555556,
              "#d8576b"
             ],
             [
              0.6666666666666666,
              "#ed7953"
             ],
             [
              0.7777777777777778,
              "#fb9f3a"
             ],
             [
              0.8888888888888888,
              "#fdca26"
             ],
             [
              1,
              "#f0f921"
             ]
            ],
            "type": "contour"
           }
          ],
          "contourcarpet": [
           {
            "colorbar": {
             "outlinewidth": 0,
             "ticks": ""
            },
            "type": "contourcarpet"
           }
          ],
          "heatmap": [
           {
            "colorbar": {
             "outlinewidth": 0,
             "ticks": ""
            },
            "colorscale": [
             [
              0,
              "#0d0887"
             ],
             [
              0.1111111111111111,
              "#46039f"
             ],
             [
              0.2222222222222222,
              "#7201a8"
             ],
             [
              0.3333333333333333,
              "#9c179e"
             ],
             [
              0.4444444444444444,
              "#bd3786"
             ],
             [
              0.5555555555555556,
              "#d8576b"
             ],
             [
              0.6666666666666666,
              "#ed7953"
             ],
             [
              0.7777777777777778,
              "#fb9f3a"
             ],
             [
              0.8888888888888888,
              "#fdca26"
             ],
             [
              1,
              "#f0f921"
             ]
            ],
            "type": "heatmap"
           }
          ],
          "heatmapgl": [
           {
            "colorbar": {
             "outlinewidth": 0,
             "ticks": ""
            },
            "colorscale": [
             [
              0,
              "#0d0887"
             ],
             [
              0.1111111111111111,
              "#46039f"
             ],
             [
              0.2222222222222222,
              "#7201a8"
             ],
             [
              0.3333333333333333,
              "#9c179e"
             ],
             [
              0.4444444444444444,
              "#bd3786"
             ],
             [
              0.5555555555555556,
              "#d8576b"
             ],
             [
              0.6666666666666666,
              "#ed7953"
             ],
             [
              0.7777777777777778,
              "#fb9f3a"
             ],
             [
              0.8888888888888888,
              "#fdca26"
             ],
             [
              1,
              "#f0f921"
             ]
            ],
            "type": "heatmapgl"
           }
          ],
          "histogram": [
           {
            "marker": {
             "colorbar": {
              "outlinewidth": 0,
              "ticks": ""
             }
            },
            "type": "histogram"
           }
          ],
          "histogram2d": [
           {
            "colorbar": {
             "outlinewidth": 0,
             "ticks": ""
            },
            "colorscale": [
             [
              0,
              "#0d0887"
             ],
             [
              0.1111111111111111,
              "#46039f"
             ],
             [
              0.2222222222222222,
              "#7201a8"
             ],
             [
              0.3333333333333333,
              "#9c179e"
             ],
             [
              0.4444444444444444,
              "#bd3786"
             ],
             [
              0.5555555555555556,
              "#d8576b"
             ],
             [
              0.6666666666666666,
              "#ed7953"
             ],
             [
              0.7777777777777778,
              "#fb9f3a"
             ],
             [
              0.8888888888888888,
              "#fdca26"
             ],
             [
              1,
              "#f0f921"
             ]
            ],
            "type": "histogram2d"
           }
          ],
          "histogram2dcontour": [
           {
            "colorbar": {
             "outlinewidth": 0,
             "ticks": ""
            },
            "colorscale": [
             [
              0,
              "#0d0887"
             ],
             [
              0.1111111111111111,
              "#46039f"
             ],
             [
              0.2222222222222222,
              "#7201a8"
             ],
             [
              0.3333333333333333,
              "#9c179e"
             ],
             [
              0.4444444444444444,
              "#bd3786"
             ],
             [
              0.5555555555555556,
              "#d8576b"
             ],
             [
              0.6666666666666666,
              "#ed7953"
             ],
             [
              0.7777777777777778,
              "#fb9f3a"
             ],
             [
              0.8888888888888888,
              "#fdca26"
             ],
             [
              1,
              "#f0f921"
             ]
            ],
            "type": "histogram2dcontour"
           }
          ],
          "mesh3d": [
           {
            "colorbar": {
             "outlinewidth": 0,
             "ticks": ""
            },
            "type": "mesh3d"
           }
          ],
          "parcoords": [
           {
            "line": {
             "colorbar": {
              "outlinewidth": 0,
              "ticks": ""
             }
            },
            "type": "parcoords"
           }
          ],
          "pie": [
           {
            "automargin": true,
            "type": "pie"
           }
          ],
          "scatter": [
           {
            "marker": {
             "colorbar": {
              "outlinewidth": 0,
              "ticks": ""
             }
            },
            "type": "scatter"
           }
          ],
          "scatter3d": [
           {
            "line": {
             "colorbar": {
              "outlinewidth": 0,
              "ticks": ""
             }
            },
            "marker": {
             "colorbar": {
              "outlinewidth": 0,
              "ticks": ""
             }
            },
            "type": "scatter3d"
           }
          ],
          "scattercarpet": [
           {
            "marker": {
             "colorbar": {
              "outlinewidth": 0,
              "ticks": ""
             }
            },
            "type": "scattercarpet"
           }
          ],
          "scattergeo": [
           {
            "marker": {
             "colorbar": {
              "outlinewidth": 0,
              "ticks": ""
             }
            },
            "type": "scattergeo"
           }
          ],
          "scattergl": [
           {
            "marker": {
             "colorbar": {
              "outlinewidth": 0,
              "ticks": ""
             }
            },
            "type": "scattergl"
           }
          ],
          "scattermapbox": [
           {
            "marker": {
             "colorbar": {
              "outlinewidth": 0,
              "ticks": ""
             }
            },
            "type": "scattermapbox"
           }
          ],
          "scatterpolar": [
           {
            "marker": {
             "colorbar": {
              "outlinewidth": 0,
              "ticks": ""
             }
            },
            "type": "scatterpolar"
           }
          ],
          "scatterpolargl": [
           {
            "marker": {
             "colorbar": {
              "outlinewidth": 0,
              "ticks": ""
             }
            },
            "type": "scatterpolargl"
           }
          ],
          "scatterternary": [
           {
            "marker": {
             "colorbar": {
              "outlinewidth": 0,
              "ticks": ""
             }
            },
            "type": "scatterternary"
           }
          ],
          "surface": [
           {
            "colorbar": {
             "outlinewidth": 0,
             "ticks": ""
            },
            "colorscale": [
             [
              0,
              "#0d0887"
             ],
             [
              0.1111111111111111,
              "#46039f"
             ],
             [
              0.2222222222222222,
              "#7201a8"
             ],
             [
              0.3333333333333333,
              "#9c179e"
             ],
             [
              0.4444444444444444,
              "#bd3786"
             ],
             [
              0.5555555555555556,
              "#d8576b"
             ],
             [
              0.6666666666666666,
              "#ed7953"
             ],
             [
              0.7777777777777778,
              "#fb9f3a"
             ],
             [
              0.8888888888888888,
              "#fdca26"
             ],
             [
              1,
              "#f0f921"
             ]
            ],
            "type": "surface"
           }
          ],
          "table": [
           {
            "cells": {
             "fill": {
              "color": "#EBF0F8"
             },
             "line": {
              "color": "white"
             }
            },
            "header": {
             "fill": {
              "color": "#C8D4E3"
             },
             "line": {
              "color": "white"
             }
            },
            "type": "table"
           }
          ]
         },
         "layout": {
          "annotationdefaults": {
           "arrowcolor": "#2a3f5f",
           "arrowhead": 0,
           "arrowwidth": 1
          },
          "coloraxis": {
           "colorbar": {
            "outlinewidth": 0,
            "ticks": ""
           }
          },
          "colorscale": {
           "diverging": [
            [
             0,
             "#8e0152"
            ],
            [
             0.1,
             "#c51b7d"
            ],
            [
             0.2,
             "#de77ae"
            ],
            [
             0.3,
             "#f1b6da"
            ],
            [
             0.4,
             "#fde0ef"
            ],
            [
             0.5,
             "#f7f7f7"
            ],
            [
             0.6,
             "#e6f5d0"
            ],
            [
             0.7,
             "#b8e186"
            ],
            [
             0.8,
             "#7fbc41"
            ],
            [
             0.9,
             "#4d9221"
            ],
            [
             1,
             "#276419"
            ]
           ],
           "sequential": [
            [
             0,
             "#0d0887"
            ],
            [
             0.1111111111111111,
             "#46039f"
            ],
            [
             0.2222222222222222,
             "#7201a8"
            ],
            [
             0.3333333333333333,
             "#9c179e"
            ],
            [
             0.4444444444444444,
             "#bd3786"
            ],
            [
             0.5555555555555556,
             "#d8576b"
            ],
            [
             0.6666666666666666,
             "#ed7953"
            ],
            [
             0.7777777777777778,
             "#fb9f3a"
            ],
            [
             0.8888888888888888,
             "#fdca26"
            ],
            [
             1,
             "#f0f921"
            ]
           ],
           "sequentialminus": [
            [
             0,
             "#0d0887"
            ],
            [
             0.1111111111111111,
             "#46039f"
            ],
            [
             0.2222222222222222,
             "#7201a8"
            ],
            [
             0.3333333333333333,
             "#9c179e"
            ],
            [
             0.4444444444444444,
             "#bd3786"
            ],
            [
             0.5555555555555556,
             "#d8576b"
            ],
            [
             0.6666666666666666,
             "#ed7953"
            ],
            [
             0.7777777777777778,
             "#fb9f3a"
            ],
            [
             0.8888888888888888,
             "#fdca26"
            ],
            [
             1,
             "#f0f921"
            ]
           ]
          },
          "colorway": [
           "#636efa",
           "#EF553B",
           "#00cc96",
           "#ab63fa",
           "#FFA15A",
           "#19d3f3",
           "#FF6692",
           "#B6E880",
           "#FF97FF",
           "#FECB52"
          ],
          "font": {
           "color": "#2a3f5f"
          },
          "geo": {
           "bgcolor": "white",
           "lakecolor": "white",
           "landcolor": "#E5ECF6",
           "showlakes": true,
           "showland": true,
           "subunitcolor": "white"
          },
          "hoverlabel": {
           "align": "left"
          },
          "hovermode": "closest",
          "mapbox": {
           "style": "light"
          },
          "paper_bgcolor": "white",
          "plot_bgcolor": "#E5ECF6",
          "polar": {
           "angularaxis": {
            "gridcolor": "white",
            "linecolor": "white",
            "ticks": ""
           },
           "bgcolor": "#E5ECF6",
           "radialaxis": {
            "gridcolor": "white",
            "linecolor": "white",
            "ticks": ""
           }
          },
          "scene": {
           "xaxis": {
            "backgroundcolor": "#E5ECF6",
            "gridcolor": "white",
            "gridwidth": 2,
            "linecolor": "white",
            "showbackground": true,
            "ticks": "",
            "zerolinecolor": "white"
           },
           "yaxis": {
            "backgroundcolor": "#E5ECF6",
            "gridcolor": "white",
            "gridwidth": 2,
            "linecolor": "white",
            "showbackground": true,
            "ticks": "",
            "zerolinecolor": "white"
           },
           "zaxis": {
            "backgroundcolor": "#E5ECF6",
            "gridcolor": "white",
            "gridwidth": 2,
            "linecolor": "white",
            "showbackground": true,
            "ticks": "",
            "zerolinecolor": "white"
           }
          },
          "shapedefaults": {
           "line": {
            "color": "#2a3f5f"
           }
          },
          "ternary": {
           "aaxis": {
            "gridcolor": "white",
            "linecolor": "white",
            "ticks": ""
           },
           "baxis": {
            "gridcolor": "white",
            "linecolor": "white",
            "ticks": ""
           },
           "bgcolor": "#E5ECF6",
           "caxis": {
            "gridcolor": "white",
            "linecolor": "white",
            "ticks": ""
           }
          },
          "title": {
           "x": 0.05
          },
          "xaxis": {
           "automargin": true,
           "gridcolor": "white",
           "linecolor": "white",
           "ticks": "",
           "title": {
            "standoff": 15
           },
           "zerolinecolor": "white",
           "zerolinewidth": 2
          },
          "yaxis": {
           "automargin": true,
           "gridcolor": "white",
           "linecolor": "white",
           "ticks": "",
           "title": {
            "standoff": 15
           },
           "zerolinecolor": "white",
           "zerolinewidth": 2
          }
         }
        },
        "xaxis": {
         "anchor": "y",
         "domain": [
          0,
          1
         ],
         "title": {
          "text": "StartDate"
         }
        },
        "yaxis": {
         "anchor": "x",
         "domain": [
          0,
          1
         ],
         "dtick": 1,
         "tick0": 0,
         "tickmode": "linear",
         "title": {
          "text": "TotalTime"
         }
        }
       }
      },
      "text/html": [
       "<div>\n",
       "        \n",
       "        \n",
       "            <div id=\"4717f117-212f-4c90-bfb1-80103b65b500\" class=\"plotly-graph-div\" style=\"height:600px; width:100%;\"></div>\n",
       "            <script type=\"text/javascript\">\n",
       "                require([\"plotly\"], function(Plotly) {\n",
       "                    window.PLOTLYENV=window.PLOTLYENV || {};\n",
       "                    \n",
       "                if (document.getElementById(\"4717f117-212f-4c90-bfb1-80103b65b500\")) {\n",
       "                    Plotly.newPlot(\n",
       "                        '4717f117-212f-4c90-bfb1-80103b65b500',\n",
       "                        [{\"hoverlabel\": {\"namelength\": 0}, \"hovertemplate\": \"StartDate=%{x}<br>TotalTime=%{y}\", \"legendgroup\": \"\", \"line\": {\"color\": \"#636efa\", \"dash\": \"solid\"}, \"mode\": \"lines\", \"name\": \"\", \"showlegend\": false, \"type\": \"scatter\", \"x\": [\"2020-03-07\", \"2020-03-05\", \"2020-03-04\", \"2020-03-03\", \"2020-03-02\", \"2020-03-01\", \"2020-02-29\", \"2020-02-28\", \"2020-02-27\", \"2020-02-26\", \"2020-02-25\", \"2020-02-24\", \"2020-02-24\", \"2020-02-23\", \"2020-02-22\", \"2020-02-20\", \"2020-02-20\", \"2020-02-18\", \"2020-02-17\", \"2020-02-16\", \"2020-02-15\", \"2020-02-15\", \"2020-02-13\", \"2020-02-12\", \"2020-02-11\", \"2020-02-10\", \"2020-02-09\", \"2020-02-09\", \"2020-02-08\", \"2020-02-07\", \"2020-02-05\", \"2020-02-04\", \"2020-02-03\", \"2020-02-03\", \"2020-02-02\", \"2020-02-01\", \"2020-01-31\", \"2020-01-30\", \"2020-01-29\", \"2020-01-28\", \"2020-01-27\", \"2020-01-27\", \"2020-01-26\", \"2020-01-24\", \"2020-01-23\", \"2020-01-22\", \"2020-01-21\", \"2020-01-20\", \"2020-01-19\", \"2020-01-19\", \"2020-01-18\", \"2020-01-17\", \"2020-01-15\", \"2020-01-14\", \"2020-01-14\", \"2020-01-12\", \"2020-01-12\", \"2020-01-11\", \"2020-01-09\", \"2020-01-08\", \"2020-01-07\", \"2020-01-06\", \"2020-01-05\", \"2020-01-05\", \"2020-01-04\", \"2020-01-02\", \"2020-01-02\", \"2020-01-02\", \"2020-01-01\", \"2019-12-31\", \"2019-12-30\", \"2019-12-29\", \"2019-12-28\", \"2019-12-27\", \"2019-12-25\", \"2019-12-25\", \"2019-12-23\", \"2019-12-22\", \"2019-12-21\", \"2019-12-21\", \"2019-12-19\", \"2019-12-18\", \"2019-12-17\", \"2019-12-16\", \"2019-12-15\", \"2019-12-14\", \"2019-12-14\", \"2019-12-12\", \"2019-12-11\", \"2019-12-10\", \"2019-12-09\", \"2019-12-08\", \"2019-12-08\", \"2019-12-07\", \"2019-12-05\", \"2019-12-04\", \"2019-12-03\", \"2019-12-03\", \"2019-12-02\", \"2019-12-01\", \"2019-12-01\", \"2019-11-30\", \"2019-11-29\", \"2019-11-28\", \"2019-11-27\", \"2019-11-25\", \"2019-11-25\", \"2019-11-25\", \"2019-11-24\", \"2019-11-23\", \"2019-11-23\", \"2019-11-21\", \"2019-11-20\", \"2019-11-19\", \"2019-11-18\", \"2019-11-17\", \"2019-11-16\", \"2019-11-14\", \"2019-11-13\", \"2019-11-12\", \"2019-11-12\", \"2019-11-11\", \"2019-11-10\", \"2019-11-08\", \"2019-11-08\", \"2019-11-06\", \"2019-11-05\", \"2019-11-04\", \"2019-11-03\", \"2019-11-02\", \"2019-10-31\", \"2019-10-30\", \"2019-10-29\", \"2019-10-28\", \"2019-10-27\", \"2019-10-27\", \"2019-10-26\", \"2019-10-24\", \"2019-10-23\", \"2019-10-22\", \"2019-10-20\", \"2019-10-19\", \"2019-10-18\", \"2019-10-17\", \"2019-10-16\", \"2019-10-14\", \"2019-10-13\", \"2019-10-13\", \"2019-10-12\", \"2019-10-09\", \"2019-10-07\", \"2019-10-07\", \"2019-10-07\", \"2019-10-06\", \"2019-10-05\", \"2019-10-03\", \"2019-09-30\", \"2019-09-29\", \"2019-09-27\", \"2019-09-26\", \"2019-09-24\", \"2019-09-23\", \"2019-09-23\", \"2019-09-21\", \"2019-09-20\", \"2019-09-19\", \"2019-09-17\", \"2019-09-16\", \"2019-09-15\", \"2019-09-15\", \"2019-09-13\", \"2019-09-12\", \"2019-09-11\"], \"xaxis\": \"x\", \"y\": [9.12, 7.9, 8.47, 7.4, 8.28, 7.75, 7.45, 8.82, 7.73, 7.47, 7.75, 8.37, 6.93, 10.22, 9.0, 8.5, 7.05, 8.23, 7.77, 8.9, 10.92, 9.05, 7.28, 8.43, 8.23, 8.3, 8.28, 9.42, 8.45, 4.98, 8.37, 8.28, 8.02, 7.37, 8.25, 8.57, 3.2, 3.97, 8.12, 7.87, 8.37, 7.23, 6.88, 11.33, 8.3, 9.42, 8.08, 6.9, 10.07, 8.17, 9.43, 6.65, 7.52, 8.37, 6.78, 8.7, 7.22, 8.92, 8.73, 8.38, 8.65, 8.08, 8.78, 5.7, 10.48, 8.17, 6.03, 0.52, 9.22, 9.0, 7.95, 9.05, 8.58, 7.75, 9.05, 8.52, 9.93, 6.7, 9.43, 8.07, 7.38, 7.95, 8.03, 7.97, 6.72, 9.92, 7.35, 8.32, 7.7, 8.68, 6.22, 7.6, 9.83, 6.92, 8.9, 7.33, 7.98, 1.18, 7.7, 7.78, 8.88, 8.23, 7.57, 7.82, 8.32, 8.07, 2.12, 6.3, 5.58, 3.53, 7.05, 7.33, 7.93, 8.05, 7.72, 8.18, 9.03, 7.87, 8.22, 8.6, 6.75, 6.32, 8.12, 10.38, 6.02, 7.17, 8.33, 5.93, 7.8, 9.48, 6.3, 7.78, 7.55, 8.05, 7.33, 8.88, 8.5, 7.63, 7.72, 7.08, 8.02, 8.33, 9.37, 7.75, 6.95, 6.33, 7.02, 9.87, 9.28, 7.78, 7.92, 4.43, 0.67, 9.3, 8.4, 8.1, 4.92, 9.72, 9.5, 7.67, 7.22, 7.83, 6.82, 8.65, 8.17, 7.55, 7.43, 8.02, 2.35, 7.75, 9.8, 7.52, 7.57], \"yaxis\": \"y\"}],\n",
       "                        {\"height\": 600, \"legend\": {\"tracegroupgap\": 0}, \"margin\": {\"t\": 60}, \"template\": {\"data\": {\"bar\": [{\"error_x\": {\"color\": \"#2a3f5f\"}, \"error_y\": {\"color\": \"#2a3f5f\"}, \"marker\": {\"line\": {\"color\": \"#E5ECF6\", \"width\": 0.5}}, \"type\": \"bar\"}], \"barpolar\": [{\"marker\": {\"line\": {\"color\": \"#E5ECF6\", \"width\": 0.5}}, \"type\": \"barpolar\"}], \"carpet\": [{\"aaxis\": {\"endlinecolor\": \"#2a3f5f\", \"gridcolor\": \"white\", \"linecolor\": \"white\", \"minorgridcolor\": \"white\", \"startlinecolor\": \"#2a3f5f\"}, \"baxis\": {\"endlinecolor\": \"#2a3f5f\", \"gridcolor\": \"white\", \"linecolor\": \"white\", \"minorgridcolor\": \"white\", \"startlinecolor\": \"#2a3f5f\"}, \"type\": \"carpet\"}], \"choropleth\": [{\"colorbar\": {\"outlinewidth\": 0, \"ticks\": \"\"}, \"type\": \"choropleth\"}], \"contour\": [{\"colorbar\": {\"outlinewidth\": 0, \"ticks\": \"\"}, \"colorscale\": [[0.0, \"#0d0887\"], [0.1111111111111111, \"#46039f\"], [0.2222222222222222, \"#7201a8\"], [0.3333333333333333, \"#9c179e\"], [0.4444444444444444, \"#bd3786\"], [0.5555555555555556, \"#d8576b\"], [0.6666666666666666, \"#ed7953\"], [0.7777777777777778, \"#fb9f3a\"], [0.8888888888888888, \"#fdca26\"], [1.0, \"#f0f921\"]], \"type\": \"contour\"}], \"contourcarpet\": [{\"colorbar\": {\"outlinewidth\": 0, \"ticks\": \"\"}, \"type\": \"contourcarpet\"}], \"heatmap\": [{\"colorbar\": {\"outlinewidth\": 0, \"ticks\": \"\"}, \"colorscale\": [[0.0, \"#0d0887\"], [0.1111111111111111, \"#46039f\"], [0.2222222222222222, \"#7201a8\"], [0.3333333333333333, \"#9c179e\"], [0.4444444444444444, \"#bd3786\"], [0.5555555555555556, \"#d8576b\"], [0.6666666666666666, \"#ed7953\"], [0.7777777777777778, \"#fb9f3a\"], [0.8888888888888888, \"#fdca26\"], [1.0, \"#f0f921\"]], \"type\": \"heatmap\"}], \"heatmapgl\": [{\"colorbar\": {\"outlinewidth\": 0, \"ticks\": \"\"}, \"colorscale\": [[0.0, \"#0d0887\"], [0.1111111111111111, \"#46039f\"], [0.2222222222222222, \"#7201a8\"], [0.3333333333333333, \"#9c179e\"], [0.4444444444444444, \"#bd3786\"], [0.5555555555555556, \"#d8576b\"], [0.6666666666666666, \"#ed7953\"], [0.7777777777777778, \"#fb9f3a\"], [0.8888888888888888, \"#fdca26\"], [1.0, \"#f0f921\"]], \"type\": \"heatmapgl\"}], \"histogram\": [{\"marker\": {\"colorbar\": {\"outlinewidth\": 0, \"ticks\": \"\"}}, \"type\": \"histogram\"}], \"histogram2d\": [{\"colorbar\": {\"outlinewidth\": 0, \"ticks\": \"\"}, \"colorscale\": [[0.0, \"#0d0887\"], [0.1111111111111111, \"#46039f\"], [0.2222222222222222, \"#7201a8\"], [0.3333333333333333, \"#9c179e\"], [0.4444444444444444, \"#bd3786\"], [0.5555555555555556, \"#d8576b\"], [0.6666666666666666, \"#ed7953\"], [0.7777777777777778, \"#fb9f3a\"], [0.8888888888888888, \"#fdca26\"], [1.0, \"#f0f921\"]], \"type\": \"histogram2d\"}], \"histogram2dcontour\": [{\"colorbar\": {\"outlinewidth\": 0, \"ticks\": \"\"}, \"colorscale\": [[0.0, \"#0d0887\"], [0.1111111111111111, \"#46039f\"], [0.2222222222222222, \"#7201a8\"], [0.3333333333333333, \"#9c179e\"], [0.4444444444444444, \"#bd3786\"], [0.5555555555555556, \"#d8576b\"], [0.6666666666666666, \"#ed7953\"], [0.7777777777777778, \"#fb9f3a\"], [0.8888888888888888, \"#fdca26\"], [1.0, \"#f0f921\"]], \"type\": \"histogram2dcontour\"}], \"mesh3d\": [{\"colorbar\": {\"outlinewidth\": 0, \"ticks\": \"\"}, \"type\": \"mesh3d\"}], \"parcoords\": [{\"line\": {\"colorbar\": {\"outlinewidth\": 0, \"ticks\": \"\"}}, \"type\": \"parcoords\"}], \"pie\": [{\"automargin\": true, \"type\": \"pie\"}], \"scatter\": [{\"marker\": {\"colorbar\": {\"outlinewidth\": 0, \"ticks\": \"\"}}, \"type\": \"scatter\"}], \"scatter3d\": [{\"line\": {\"colorbar\": {\"outlinewidth\": 0, \"ticks\": \"\"}}, \"marker\": {\"colorbar\": {\"outlinewidth\": 0, \"ticks\": \"\"}}, \"type\": \"scatter3d\"}], \"scattercarpet\": [{\"marker\": {\"colorbar\": {\"outlinewidth\": 0, \"ticks\": \"\"}}, \"type\": \"scattercarpet\"}], \"scattergeo\": [{\"marker\": {\"colorbar\": {\"outlinewidth\": 0, \"ticks\": \"\"}}, \"type\": \"scattergeo\"}], \"scattergl\": [{\"marker\": {\"colorbar\": {\"outlinewidth\": 0, \"ticks\": \"\"}}, \"type\": \"scattergl\"}], \"scattermapbox\": [{\"marker\": {\"colorbar\": {\"outlinewidth\": 0, \"ticks\": \"\"}}, \"type\": \"scattermapbox\"}], \"scatterpolar\": [{\"marker\": {\"colorbar\": {\"outlinewidth\": 0, \"ticks\": \"\"}}, \"type\": \"scatterpolar\"}], \"scatterpolargl\": [{\"marker\": {\"colorbar\": {\"outlinewidth\": 0, \"ticks\": \"\"}}, \"type\": \"scatterpolargl\"}], \"scatterternary\": [{\"marker\": {\"colorbar\": {\"outlinewidth\": 0, \"ticks\": \"\"}}, \"type\": \"scatterternary\"}], \"surface\": [{\"colorbar\": {\"outlinewidth\": 0, \"ticks\": \"\"}, \"colorscale\": [[0.0, \"#0d0887\"], [0.1111111111111111, \"#46039f\"], [0.2222222222222222, \"#7201a8\"], [0.3333333333333333, \"#9c179e\"], [0.4444444444444444, \"#bd3786\"], [0.5555555555555556, \"#d8576b\"], [0.6666666666666666, \"#ed7953\"], [0.7777777777777778, \"#fb9f3a\"], [0.8888888888888888, \"#fdca26\"], [1.0, \"#f0f921\"]], \"type\": \"surface\"}], \"table\": [{\"cells\": {\"fill\": {\"color\": \"#EBF0F8\"}, \"line\": {\"color\": \"white\"}}, \"header\": {\"fill\": {\"color\": \"#C8D4E3\"}, \"line\": {\"color\": \"white\"}}, \"type\": \"table\"}]}, \"layout\": {\"annotationdefaults\": {\"arrowcolor\": \"#2a3f5f\", \"arrowhead\": 0, \"arrowwidth\": 1}, \"coloraxis\": {\"colorbar\": {\"outlinewidth\": 0, \"ticks\": \"\"}}, \"colorscale\": {\"diverging\": [[0, \"#8e0152\"], [0.1, \"#c51b7d\"], [0.2, \"#de77ae\"], [0.3, \"#f1b6da\"], [0.4, \"#fde0ef\"], [0.5, \"#f7f7f7\"], [0.6, \"#e6f5d0\"], [0.7, \"#b8e186\"], [0.8, \"#7fbc41\"], [0.9, \"#4d9221\"], [1, \"#276419\"]], \"sequential\": [[0.0, \"#0d0887\"], [0.1111111111111111, \"#46039f\"], [0.2222222222222222, \"#7201a8\"], [0.3333333333333333, \"#9c179e\"], [0.4444444444444444, \"#bd3786\"], [0.5555555555555556, \"#d8576b\"], [0.6666666666666666, \"#ed7953\"], [0.7777777777777778, \"#fb9f3a\"], [0.8888888888888888, \"#fdca26\"], [1.0, \"#f0f921\"]], \"sequentialminus\": [[0.0, \"#0d0887\"], [0.1111111111111111, \"#46039f\"], [0.2222222222222222, \"#7201a8\"], [0.3333333333333333, \"#9c179e\"], [0.4444444444444444, \"#bd3786\"], [0.5555555555555556, \"#d8576b\"], [0.6666666666666666, \"#ed7953\"], [0.7777777777777778, \"#fb9f3a\"], [0.8888888888888888, \"#fdca26\"], [1.0, \"#f0f921\"]]}, \"colorway\": [\"#636efa\", \"#EF553B\", \"#00cc96\", \"#ab63fa\", \"#FFA15A\", \"#19d3f3\", \"#FF6692\", \"#B6E880\", \"#FF97FF\", \"#FECB52\"], \"font\": {\"color\": \"#2a3f5f\"}, \"geo\": {\"bgcolor\": \"white\", \"lakecolor\": \"white\", \"landcolor\": \"#E5ECF6\", \"showlakes\": true, \"showland\": true, \"subunitcolor\": \"white\"}, \"hoverlabel\": {\"align\": \"left\"}, \"hovermode\": \"closest\", \"mapbox\": {\"style\": \"light\"}, \"paper_bgcolor\": \"white\", \"plot_bgcolor\": \"#E5ECF6\", \"polar\": {\"angularaxis\": {\"gridcolor\": \"white\", \"linecolor\": \"white\", \"ticks\": \"\"}, \"bgcolor\": \"#E5ECF6\", \"radialaxis\": {\"gridcolor\": \"white\", \"linecolor\": \"white\", \"ticks\": \"\"}}, \"scene\": {\"xaxis\": {\"backgroundcolor\": \"#E5ECF6\", \"gridcolor\": \"white\", \"gridwidth\": 2, \"linecolor\": \"white\", \"showbackground\": true, \"ticks\": \"\", \"zerolinecolor\": \"white\"}, \"yaxis\": {\"backgroundcolor\": \"#E5ECF6\", \"gridcolor\": \"white\", \"gridwidth\": 2, \"linecolor\": \"white\", \"showbackground\": true, \"ticks\": \"\", \"zerolinecolor\": \"white\"}, \"zaxis\": {\"backgroundcolor\": \"#E5ECF6\", \"gridcolor\": \"white\", \"gridwidth\": 2, \"linecolor\": \"white\", \"showbackground\": true, \"ticks\": \"\", \"zerolinecolor\": \"white\"}}, \"shapedefaults\": {\"line\": {\"color\": \"#2a3f5f\"}}, \"ternary\": {\"aaxis\": {\"gridcolor\": \"white\", \"linecolor\": \"white\", \"ticks\": \"\"}, \"baxis\": {\"gridcolor\": \"white\", \"linecolor\": \"white\", \"ticks\": \"\"}, \"bgcolor\": \"#E5ECF6\", \"caxis\": {\"gridcolor\": \"white\", \"linecolor\": \"white\", \"ticks\": \"\"}}, \"title\": {\"x\": 0.05}, \"xaxis\": {\"automargin\": true, \"gridcolor\": \"white\", \"linecolor\": \"white\", \"ticks\": \"\", \"title\": {\"standoff\": 15}, \"zerolinecolor\": \"white\", \"zerolinewidth\": 2}, \"yaxis\": {\"automargin\": true, \"gridcolor\": \"white\", \"linecolor\": \"white\", \"ticks\": \"\", \"title\": {\"standoff\": 15}, \"zerolinecolor\": \"white\", \"zerolinewidth\": 2}}}, \"xaxis\": {\"anchor\": \"y\", \"domain\": [0.0, 1.0], \"title\": {\"text\": \"StartDate\"}}, \"yaxis\": {\"anchor\": \"x\", \"domain\": [0.0, 1.0], \"dtick\": 1, \"tick0\": 0, \"tickmode\": \"linear\", \"title\": {\"text\": \"TotalTime\"}}},\n",
       "                        {\"responsive\": true}\n",
       "                    ).then(function(){\n",
       "                            \n",
       "var gd = document.getElementById('4717f117-212f-4c90-bfb1-80103b65b500');\n",
       "var x = new MutationObserver(function (mutations, observer) {{\n",
       "        var display = window.getComputedStyle(gd).display;\n",
       "        if (!display || display === 'none') {{\n",
       "            console.log([gd, 'removed!']);\n",
       "            Plotly.purge(gd);\n",
       "            observer.disconnect();\n",
       "        }}\n",
       "}});\n",
       "\n",
       "// Listen for the removal of the full notebook cells\n",
       "var notebookContainer = gd.closest('#notebook-container');\n",
       "if (notebookContainer) {{\n",
       "    x.observe(notebookContainer, {childList: true});\n",
       "}}\n",
       "\n",
       "// Listen for the clearing of the current output cell\n",
       "var outputEl = gd.closest('.output');\n",
       "if (outputEl) {{\n",
       "    x.observe(outputEl, {childList: true});\n",
       "}}\n",
       "\n",
       "                        })\n",
       "                };\n",
       "                });\n",
       "            </script>\n",
       "        </div>"
      ]
     },
     "metadata": {},
     "output_type": "display_data"
    }
   ],
   "source": [
    "fig = px.line(plotable_data, x='StartDate', y='TotalTime')\n",
    "fig.update_layout(\n",
    "    yaxis = dict(\n",
    "        tickmode = 'linear',\n",
    "        tick0 = 0,\n",
    "        dtick = 1\n",
    "    )\n",
    ")\n",
    "\n",
    "fig.show()"
   ]
  },
  {
   "cell_type": "code",
   "execution_count": 194,
   "metadata": {},
   "outputs": [
    {
     "data": {
      "application/vnd.plotly.v1+json": {
       "config": {
        "plotlyServerURL": "https://plot.ly"
       },
       "data": [
        {
         "type": "scatter",
         "x": [
          "2020-03-06",
          "2020-03-05",
          "2020-03-04",
          "2020-03-03",
          "2020-03-02",
          "2020-03-01",
          "2020-02-29",
          "2020-02-28",
          "2020-02-27",
          "2020-02-26",
          "2020-02-25",
          "2020-02-24",
          "2020-02-23",
          "2020-02-22",
          "2020-02-21",
          "2020-02-20",
          "2020-02-19",
          "2020-02-18",
          "2020-02-17",
          "2020-02-16",
          "2020-02-15",
          "2020-02-14",
          "2020-02-13",
          "2020-02-12",
          "2020-02-11",
          "2020-02-10",
          "2020-02-09",
          "2020-02-08",
          "2020-02-07",
          "2020-02-06",
          "2020-02-05",
          "2020-02-04",
          "2020-02-03",
          "2020-02-02",
          "2020-02-01",
          "2020-01-31",
          "2020-01-30",
          "2020-01-30",
          "2020-01-29",
          "2020-01-28",
          "2020-01-27",
          "2020-01-26",
          "2020-01-25",
          "2020-01-24",
          "2020-01-23",
          "2020-01-22",
          "2020-01-21",
          "2020-01-20",
          "2020-01-19",
          "2020-01-18",
          "2020-01-17",
          "2020-01-16",
          "2020-01-15",
          "2020-01-14",
          "2020-01-13",
          "2020-01-12",
          "2020-01-11",
          "2020-01-10",
          "2020-01-09",
          "2020-01-08",
          "2020-01-07",
          "2020-01-06",
          "2020-01-05",
          "2020-01-04",
          "2020-01-03",
          "2020-01-02",
          "2020-01-01",
          "2020-01-01",
          "2019-12-31",
          "2019-12-30",
          "2019-12-29",
          "2019-12-28",
          "2019-12-27",
          "2019-12-26",
          "2019-12-25",
          "2019-12-24",
          "2019-12-23",
          "2019-12-22",
          "2019-12-21",
          "2019-12-20",
          "2019-12-19",
          "2019-12-18",
          "2019-12-17",
          "2019-12-16",
          "2019-12-15",
          "2019-12-14",
          "2019-12-13",
          "2019-12-12",
          "2019-12-11",
          "2019-12-10",
          "2019-12-09",
          "2019-12-08",
          "2019-12-07",
          "2019-12-06",
          "2019-12-05",
          "2019-12-04",
          "2019-12-03",
          "2019-12-02",
          "2019-12-02",
          "2019-12-01",
          "2019-11-30",
          "2019-11-29",
          "2019-11-28",
          "2019-11-27",
          "2019-11-26",
          "2019-11-25",
          "2019-11-24",
          "2019-11-24",
          "2019-11-23",
          "2019-11-22",
          "2019-11-22",
          "2019-11-21",
          "2019-11-20",
          "2019-11-19",
          "2019-11-18",
          "2019-11-17",
          "2019-11-15",
          "2019-11-14",
          "2019-11-13",
          "2019-11-12",
          "2019-11-11",
          "2019-11-10",
          "2019-11-09",
          "2019-11-08",
          "2019-11-07",
          "2019-11-06",
          "2019-11-05",
          "2019-11-04",
          "2019-11-02",
          "2019-11-01",
          "2019-10-31",
          "2019-10-30",
          "2019-10-29",
          "2019-10-28",
          "2019-10-27",
          "2019-10-26",
          "2019-10-25",
          "2019-10-24",
          "2019-10-23",
          "2019-10-22",
          "2019-10-20",
          "2019-10-19",
          "2019-10-18",
          "2019-10-17",
          "2019-10-16",
          "2019-10-14",
          "2019-10-13",
          "2019-10-12",
          "2019-10-11",
          "2019-10-09",
          "2019-10-07",
          "2019-10-06",
          "2019-10-06",
          "2019-10-05",
          "2019-10-04",
          "2019-10-03",
          "2019-09-29",
          "2019-09-28",
          "2019-09-27",
          "2019-09-26",
          "2019-09-24",
          "2019-09-23",
          "2019-09-22",
          "2019-09-21",
          "2019-09-20",
          "2019-09-19",
          "2019-09-17",
          "2019-09-16",
          "2019-09-14",
          "2019-09-14",
          "2019-09-13",
          "2019-09-12",
          "2019-09-11"
         ],
         "y": [
          "00:34",
          "23:10",
          "22:37",
          "23:03",
          "22:49",
          "23:20",
          "23:22",
          "23:22",
          "23:11",
          "23:44",
          "23:36",
          "22:52",
          "00:17",
          "00:49",
          "00:58",
          "23:06",
          "00:14",
          "22:51",
          "23:31",
          "22:54",
          "23:27",
          "00:13",
          "23:17",
          "22:56",
          "22:58",
          "22:56",
          "23:02",
          "00:15",
          "01:58",
          "04:34",
          "22:54",
          "23:02",
          "23:23",
          "00:07",
          "02:03",
          "00:44",
          "02:43",
          "22:28",
          "23:14",
          "23:32",
          "23:02",
          "00:04",
          "03:17",
          "23:05",
          "23:04",
          "23:31",
          "23:21",
          "22:57",
          "23:37",
          "01:34",
          "00:07",
          "01:06",
          "22:48",
          "23:07",
          "00:25",
          "22:40",
          "01:04",
          "00:07",
          "22:35",
          "22:59",
          "22:41",
          "23:11",
          "22:39",
          "00:51",
          "02:04",
          "23:16",
          "02:03",
          "00:43",
          "01:30",
          "00:31",
          "01:31",
          "01:12",
          "00:29",
          "01:19",
          "23:45",
          "00:26",
          "23:18",
          "23:36",
          "23:47",
          "00:47",
          "23:58",
          "23:13",
          "23:05",
          "23:19",
          "23:26",
          "23:53",
          "00:53",
          "23:02",
          "22:53",
          "22:39",
          "22:58",
          "23:44",
          "01:27",
          "02:59",
          "23:11",
          "23:56",
          "23:16",
          "07:40",
          "23:26",
          "23:19",
          "00:58",
          "01:59",
          "00:16",
          "02:04",
          "00:44",
          "23:16",
          "07:50",
          "01:05",
          "04:01",
          "19:05",
          "00:59",
          "23:54",
          "23:25",
          "23:17",
          "23:28",
          "23:17",
          "00:04",
          "23:33",
          "23:14",
          "22:53",
          "00:41",
          "00:38",
          "02:45",
          "23:59",
          "05:05",
          "23:10",
          "22:27",
          "22:51",
          "01:48",
          "00:11",
          "23:46",
          "22:56",
          "22:38",
          "22:42",
          "23:30",
          "01:08",
          "01:12",
          "23:08",
          "23:12",
          "23:43",
          "22:55",
          "23:58",
          "23:53",
          "23:05",
          "23:37",
          "23:42",
          "23:35",
          "00:46",
          "00:09",
          "23:10",
          "23:05",
          "02:15",
          "01:34",
          "00:54",
          "00:42",
          "22:50",
          "00:10",
          "00:29",
          "23:21",
          "23:08",
          "23:44",
          "22:57",
          "00:00",
          "23:35",
          "22:55",
          "22:58",
          "23:11",
          "22:56",
          "13:41",
          "00:40",
          "23:08",
          "23:04",
          "23:00"
         ]
        }
       ],
       "layout": {
        "template": {
         "data": {
          "bar": [
           {
            "error_x": {
             "color": "#2a3f5f"
            },
            "error_y": {
             "color": "#2a3f5f"
            },
            "marker": {
             "line": {
              "color": "#E5ECF6",
              "width": 0.5
             }
            },
            "type": "bar"
           }
          ],
          "barpolar": [
           {
            "marker": {
             "line": {
              "color": "#E5ECF6",
              "width": 0.5
             }
            },
            "type": "barpolar"
           }
          ],
          "carpet": [
           {
            "aaxis": {
             "endlinecolor": "#2a3f5f",
             "gridcolor": "white",
             "linecolor": "white",
             "minorgridcolor": "white",
             "startlinecolor": "#2a3f5f"
            },
            "baxis": {
             "endlinecolor": "#2a3f5f",
             "gridcolor": "white",
             "linecolor": "white",
             "minorgridcolor": "white",
             "startlinecolor": "#2a3f5f"
            },
            "type": "carpet"
           }
          ],
          "choropleth": [
           {
            "colorbar": {
             "outlinewidth": 0,
             "ticks": ""
            },
            "type": "choropleth"
           }
          ],
          "contour": [
           {
            "colorbar": {
             "outlinewidth": 0,
             "ticks": ""
            },
            "colorscale": [
             [
              0,
              "#0d0887"
             ],
             [
              0.1111111111111111,
              "#46039f"
             ],
             [
              0.2222222222222222,
              "#7201a8"
             ],
             [
              0.3333333333333333,
              "#9c179e"
             ],
             [
              0.4444444444444444,
              "#bd3786"
             ],
             [
              0.5555555555555556,
              "#d8576b"
             ],
             [
              0.6666666666666666,
              "#ed7953"
             ],
             [
              0.7777777777777778,
              "#fb9f3a"
             ],
             [
              0.8888888888888888,
              "#fdca26"
             ],
             [
              1,
              "#f0f921"
             ]
            ],
            "type": "contour"
           }
          ],
          "contourcarpet": [
           {
            "colorbar": {
             "outlinewidth": 0,
             "ticks": ""
            },
            "type": "contourcarpet"
           }
          ],
          "heatmap": [
           {
            "colorbar": {
             "outlinewidth": 0,
             "ticks": ""
            },
            "colorscale": [
             [
              0,
              "#0d0887"
             ],
             [
              0.1111111111111111,
              "#46039f"
             ],
             [
              0.2222222222222222,
              "#7201a8"
             ],
             [
              0.3333333333333333,
              "#9c179e"
             ],
             [
              0.4444444444444444,
              "#bd3786"
             ],
             [
              0.5555555555555556,
              "#d8576b"
             ],
             [
              0.6666666666666666,
              "#ed7953"
             ],
             [
              0.7777777777777778,
              "#fb9f3a"
             ],
             [
              0.8888888888888888,
              "#fdca26"
             ],
             [
              1,
              "#f0f921"
             ]
            ],
            "type": "heatmap"
           }
          ],
          "heatmapgl": [
           {
            "colorbar": {
             "outlinewidth": 0,
             "ticks": ""
            },
            "colorscale": [
             [
              0,
              "#0d0887"
             ],
             [
              0.1111111111111111,
              "#46039f"
             ],
             [
              0.2222222222222222,
              "#7201a8"
             ],
             [
              0.3333333333333333,
              "#9c179e"
             ],
             [
              0.4444444444444444,
              "#bd3786"
             ],
             [
              0.5555555555555556,
              "#d8576b"
             ],
             [
              0.6666666666666666,
              "#ed7953"
             ],
             [
              0.7777777777777778,
              "#fb9f3a"
             ],
             [
              0.8888888888888888,
              "#fdca26"
             ],
             [
              1,
              "#f0f921"
             ]
            ],
            "type": "heatmapgl"
           }
          ],
          "histogram": [
           {
            "marker": {
             "colorbar": {
              "outlinewidth": 0,
              "ticks": ""
             }
            },
            "type": "histogram"
           }
          ],
          "histogram2d": [
           {
            "colorbar": {
             "outlinewidth": 0,
             "ticks": ""
            },
            "colorscale": [
             [
              0,
              "#0d0887"
             ],
             [
              0.1111111111111111,
              "#46039f"
             ],
             [
              0.2222222222222222,
              "#7201a8"
             ],
             [
              0.3333333333333333,
              "#9c179e"
             ],
             [
              0.4444444444444444,
              "#bd3786"
             ],
             [
              0.5555555555555556,
              "#d8576b"
             ],
             [
              0.6666666666666666,
              "#ed7953"
             ],
             [
              0.7777777777777778,
              "#fb9f3a"
             ],
             [
              0.8888888888888888,
              "#fdca26"
             ],
             [
              1,
              "#f0f921"
             ]
            ],
            "type": "histogram2d"
           }
          ],
          "histogram2dcontour": [
           {
            "colorbar": {
             "outlinewidth": 0,
             "ticks": ""
            },
            "colorscale": [
             [
              0,
              "#0d0887"
             ],
             [
              0.1111111111111111,
              "#46039f"
             ],
             [
              0.2222222222222222,
              "#7201a8"
             ],
             [
              0.3333333333333333,
              "#9c179e"
             ],
             [
              0.4444444444444444,
              "#bd3786"
             ],
             [
              0.5555555555555556,
              "#d8576b"
             ],
             [
              0.6666666666666666,
              "#ed7953"
             ],
             [
              0.7777777777777778,
              "#fb9f3a"
             ],
             [
              0.8888888888888888,
              "#fdca26"
             ],
             [
              1,
              "#f0f921"
             ]
            ],
            "type": "histogram2dcontour"
           }
          ],
          "mesh3d": [
           {
            "colorbar": {
             "outlinewidth": 0,
             "ticks": ""
            },
            "type": "mesh3d"
           }
          ],
          "parcoords": [
           {
            "line": {
             "colorbar": {
              "outlinewidth": 0,
              "ticks": ""
             }
            },
            "type": "parcoords"
           }
          ],
          "pie": [
           {
            "automargin": true,
            "type": "pie"
           }
          ],
          "scatter": [
           {
            "marker": {
             "colorbar": {
              "outlinewidth": 0,
              "ticks": ""
             }
            },
            "type": "scatter"
           }
          ],
          "scatter3d": [
           {
            "line": {
             "colorbar": {
              "outlinewidth": 0,
              "ticks": ""
             }
            },
            "marker": {
             "colorbar": {
              "outlinewidth": 0,
              "ticks": ""
             }
            },
            "type": "scatter3d"
           }
          ],
          "scattercarpet": [
           {
            "marker": {
             "colorbar": {
              "outlinewidth": 0,
              "ticks": ""
             }
            },
            "type": "scattercarpet"
           }
          ],
          "scattergeo": [
           {
            "marker": {
             "colorbar": {
              "outlinewidth": 0,
              "ticks": ""
             }
            },
            "type": "scattergeo"
           }
          ],
          "scattergl": [
           {
            "marker": {
             "colorbar": {
              "outlinewidth": 0,
              "ticks": ""
             }
            },
            "type": "scattergl"
           }
          ],
          "scattermapbox": [
           {
            "marker": {
             "colorbar": {
              "outlinewidth": 0,
              "ticks": ""
             }
            },
            "type": "scattermapbox"
           }
          ],
          "scatterpolar": [
           {
            "marker": {
             "colorbar": {
              "outlinewidth": 0,
              "ticks": ""
             }
            },
            "type": "scatterpolar"
           }
          ],
          "scatterpolargl": [
           {
            "marker": {
             "colorbar": {
              "outlinewidth": 0,
              "ticks": ""
             }
            },
            "type": "scatterpolargl"
           }
          ],
          "scatterternary": [
           {
            "marker": {
             "colorbar": {
              "outlinewidth": 0,
              "ticks": ""
             }
            },
            "type": "scatterternary"
           }
          ],
          "surface": [
           {
            "colorbar": {
             "outlinewidth": 0,
             "ticks": ""
            },
            "colorscale": [
             [
              0,
              "#0d0887"
             ],
             [
              0.1111111111111111,
              "#46039f"
             ],
             [
              0.2222222222222222,
              "#7201a8"
             ],
             [
              0.3333333333333333,
              "#9c179e"
             ],
             [
              0.4444444444444444,
              "#bd3786"
             ],
             [
              0.5555555555555556,
              "#d8576b"
             ],
             [
              0.6666666666666666,
              "#ed7953"
             ],
             [
              0.7777777777777778,
              "#fb9f3a"
             ],
             [
              0.8888888888888888,
              "#fdca26"
             ],
             [
              1,
              "#f0f921"
             ]
            ],
            "type": "surface"
           }
          ],
          "table": [
           {
            "cells": {
             "fill": {
              "color": "#EBF0F8"
             },
             "line": {
              "color": "white"
             }
            },
            "header": {
             "fill": {
              "color": "#C8D4E3"
             },
             "line": {
              "color": "white"
             }
            },
            "type": "table"
           }
          ]
         },
         "layout": {
          "annotationdefaults": {
           "arrowcolor": "#2a3f5f",
           "arrowhead": 0,
           "arrowwidth": 1
          },
          "coloraxis": {
           "colorbar": {
            "outlinewidth": 0,
            "ticks": ""
           }
          },
          "colorscale": {
           "diverging": [
            [
             0,
             "#8e0152"
            ],
            [
             0.1,
             "#c51b7d"
            ],
            [
             0.2,
             "#de77ae"
            ],
            [
             0.3,
             "#f1b6da"
            ],
            [
             0.4,
             "#fde0ef"
            ],
            [
             0.5,
             "#f7f7f7"
            ],
            [
             0.6,
             "#e6f5d0"
            ],
            [
             0.7,
             "#b8e186"
            ],
            [
             0.8,
             "#7fbc41"
            ],
            [
             0.9,
             "#4d9221"
            ],
            [
             1,
             "#276419"
            ]
           ],
           "sequential": [
            [
             0,
             "#0d0887"
            ],
            [
             0.1111111111111111,
             "#46039f"
            ],
            [
             0.2222222222222222,
             "#7201a8"
            ],
            [
             0.3333333333333333,
             "#9c179e"
            ],
            [
             0.4444444444444444,
             "#bd3786"
            ],
            [
             0.5555555555555556,
             "#d8576b"
            ],
            [
             0.6666666666666666,
             "#ed7953"
            ],
            [
             0.7777777777777778,
             "#fb9f3a"
            ],
            [
             0.8888888888888888,
             "#fdca26"
            ],
            [
             1,
             "#f0f921"
            ]
           ],
           "sequentialminus": [
            [
             0,
             "#0d0887"
            ],
            [
             0.1111111111111111,
             "#46039f"
            ],
            [
             0.2222222222222222,
             "#7201a8"
            ],
            [
             0.3333333333333333,
             "#9c179e"
            ],
            [
             0.4444444444444444,
             "#bd3786"
            ],
            [
             0.5555555555555556,
             "#d8576b"
            ],
            [
             0.6666666666666666,
             "#ed7953"
            ],
            [
             0.7777777777777778,
             "#fb9f3a"
            ],
            [
             0.8888888888888888,
             "#fdca26"
            ],
            [
             1,
             "#f0f921"
            ]
           ]
          },
          "colorway": [
           "#636efa",
           "#EF553B",
           "#00cc96",
           "#ab63fa",
           "#FFA15A",
           "#19d3f3",
           "#FF6692",
           "#B6E880",
           "#FF97FF",
           "#FECB52"
          ],
          "font": {
           "color": "#2a3f5f"
          },
          "geo": {
           "bgcolor": "white",
           "lakecolor": "white",
           "landcolor": "#E5ECF6",
           "showlakes": true,
           "showland": true,
           "subunitcolor": "white"
          },
          "hoverlabel": {
           "align": "left"
          },
          "hovermode": "closest",
          "mapbox": {
           "style": "light"
          },
          "paper_bgcolor": "white",
          "plot_bgcolor": "#E5ECF6",
          "polar": {
           "angularaxis": {
            "gridcolor": "white",
            "linecolor": "white",
            "ticks": ""
           },
           "bgcolor": "#E5ECF6",
           "radialaxis": {
            "gridcolor": "white",
            "linecolor": "white",
            "ticks": ""
           }
          },
          "scene": {
           "xaxis": {
            "backgroundcolor": "#E5ECF6",
            "gridcolor": "white",
            "gridwidth": 2,
            "linecolor": "white",
            "showbackground": true,
            "ticks": "",
            "zerolinecolor": "white"
           },
           "yaxis": {
            "backgroundcolor": "#E5ECF6",
            "gridcolor": "white",
            "gridwidth": 2,
            "linecolor": "white",
            "showbackground": true,
            "ticks": "",
            "zerolinecolor": "white"
           },
           "zaxis": {
            "backgroundcolor": "#E5ECF6",
            "gridcolor": "white",
            "gridwidth": 2,
            "linecolor": "white",
            "showbackground": true,
            "ticks": "",
            "zerolinecolor": "white"
           }
          },
          "shapedefaults": {
           "line": {
            "color": "#2a3f5f"
           }
          },
          "ternary": {
           "aaxis": {
            "gridcolor": "white",
            "linecolor": "white",
            "ticks": ""
           },
           "baxis": {
            "gridcolor": "white",
            "linecolor": "white",
            "ticks": ""
           },
           "bgcolor": "#E5ECF6",
           "caxis": {
            "gridcolor": "white",
            "linecolor": "white",
            "ticks": ""
           }
          },
          "title": {
           "x": 0.05
          },
          "xaxis": {
           "automargin": true,
           "gridcolor": "white",
           "linecolor": "white",
           "ticks": "",
           "title": {
            "standoff": 15
           },
           "zerolinecolor": "white",
           "zerolinewidth": 2
          },
          "yaxis": {
           "automargin": true,
           "gridcolor": "white",
           "linecolor": "white",
           "ticks": "",
           "title": {
            "standoff": 15
           },
           "zerolinecolor": "white",
           "zerolinewidth": 2
          }
         }
        },
        "yaxis": {
         "tickmode": "array",
         "ticktext": [
          "10:00 PM",
          "11:00 PM",
          "12:00 AM",
          "1:00 AM",
          "2:00 AM",
          "3:00 AM",
          "4:00 AM",
          "5:00 AM",
          "6:00 AM",
          "7:00 AM",
          "8:00 AM",
          "9:00 AM",
          "10:00 AM",
          "11:00 AM",
          "12:00 PM",
          "1:00 PM",
          "2:00 PM"
         ],
         "tickvals": [
          20,
          21,
          22,
          23,
          0,
          1,
          2,
          3,
          4,
          5,
          6,
          7,
          8,
          9,
          10,
          11,
          12,
          13,
          14
         ]
        }
       }
      },
      "text/html": [
       "<div>\n",
       "        \n",
       "        \n",
       "            <div id=\"1aeb1b75-7c1a-4b4a-8858-9cf4f429cdba\" class=\"plotly-graph-div\" style=\"height:525px; width:100%;\"></div>\n",
       "            <script type=\"text/javascript\">\n",
       "                require([\"plotly\"], function(Plotly) {\n",
       "                    window.PLOTLYENV=window.PLOTLYENV || {};\n",
       "                    \n",
       "                if (document.getElementById(\"1aeb1b75-7c1a-4b4a-8858-9cf4f429cdba\")) {\n",
       "                    Plotly.newPlot(\n",
       "                        '1aeb1b75-7c1a-4b4a-8858-9cf4f429cdba',\n",
       "                        [{\"type\": \"scatter\", \"x\": [\"2020-03-06\", \"2020-03-05\", \"2020-03-04\", \"2020-03-03\", \"2020-03-02\", \"2020-03-01\", \"2020-02-29\", \"2020-02-28\", \"2020-02-27\", \"2020-02-26\", \"2020-02-25\", \"2020-02-24\", \"2020-02-23\", \"2020-02-22\", \"2020-02-21\", \"2020-02-20\", \"2020-02-19\", \"2020-02-18\", \"2020-02-17\", \"2020-02-16\", \"2020-02-15\", \"2020-02-14\", \"2020-02-13\", \"2020-02-12\", \"2020-02-11\", \"2020-02-10\", \"2020-02-09\", \"2020-02-08\", \"2020-02-07\", \"2020-02-06\", \"2020-02-05\", \"2020-02-04\", \"2020-02-03\", \"2020-02-02\", \"2020-02-01\", \"2020-01-31\", \"2020-01-30\", \"2020-01-30\", \"2020-01-29\", \"2020-01-28\", \"2020-01-27\", \"2020-01-26\", \"2020-01-25\", \"2020-01-24\", \"2020-01-23\", \"2020-01-22\", \"2020-01-21\", \"2020-01-20\", \"2020-01-19\", \"2020-01-18\", \"2020-01-17\", \"2020-01-16\", \"2020-01-15\", \"2020-01-14\", \"2020-01-13\", \"2020-01-12\", \"2020-01-11\", \"2020-01-10\", \"2020-01-09\", \"2020-01-08\", \"2020-01-07\", \"2020-01-06\", \"2020-01-05\", \"2020-01-04\", \"2020-01-03\", \"2020-01-02\", \"2020-01-01\", \"2020-01-01\", \"2019-12-31\", \"2019-12-30\", \"2019-12-29\", \"2019-12-28\", \"2019-12-27\", \"2019-12-26\", \"2019-12-25\", \"2019-12-24\", \"2019-12-23\", \"2019-12-22\", \"2019-12-21\", \"2019-12-20\", \"2019-12-19\", \"2019-12-18\", \"2019-12-17\", \"2019-12-16\", \"2019-12-15\", \"2019-12-14\", \"2019-12-13\", \"2019-12-12\", \"2019-12-11\", \"2019-12-10\", \"2019-12-09\", \"2019-12-08\", \"2019-12-07\", \"2019-12-06\", \"2019-12-05\", \"2019-12-04\", \"2019-12-03\", \"2019-12-02\", \"2019-12-02\", \"2019-12-01\", \"2019-11-30\", \"2019-11-29\", \"2019-11-28\", \"2019-11-27\", \"2019-11-26\", \"2019-11-25\", \"2019-11-24\", \"2019-11-24\", \"2019-11-23\", \"2019-11-22\", \"2019-11-22\", \"2019-11-21\", \"2019-11-20\", \"2019-11-19\", \"2019-11-18\", \"2019-11-17\", \"2019-11-15\", \"2019-11-14\", \"2019-11-13\", \"2019-11-12\", \"2019-11-11\", \"2019-11-10\", \"2019-11-09\", \"2019-11-08\", \"2019-11-07\", \"2019-11-06\", \"2019-11-05\", \"2019-11-04\", \"2019-11-02\", \"2019-11-01\", \"2019-10-31\", \"2019-10-30\", \"2019-10-29\", \"2019-10-28\", \"2019-10-27\", \"2019-10-26\", \"2019-10-25\", \"2019-10-24\", \"2019-10-23\", \"2019-10-22\", \"2019-10-20\", \"2019-10-19\", \"2019-10-18\", \"2019-10-17\", \"2019-10-16\", \"2019-10-14\", \"2019-10-13\", \"2019-10-12\", \"2019-10-11\", \"2019-10-09\", \"2019-10-07\", \"2019-10-06\", \"2019-10-06\", \"2019-10-05\", \"2019-10-04\", \"2019-10-03\", \"2019-09-29\", \"2019-09-28\", \"2019-09-27\", \"2019-09-26\", \"2019-09-24\", \"2019-09-23\", \"2019-09-22\", \"2019-09-21\", \"2019-09-20\", \"2019-09-19\", \"2019-09-17\", \"2019-09-16\", \"2019-09-14\", \"2019-09-14\", \"2019-09-13\", \"2019-09-12\", \"2019-09-11\"], \"y\": [\"00:34\", \"23:10\", \"22:37\", \"23:03\", \"22:49\", \"23:20\", \"23:22\", \"23:22\", \"23:11\", \"23:44\", \"23:36\", \"22:52\", \"00:17\", \"00:49\", \"00:58\", \"23:06\", \"00:14\", \"22:51\", \"23:31\", \"22:54\", \"23:27\", \"00:13\", \"23:17\", \"22:56\", \"22:58\", \"22:56\", \"23:02\", \"00:15\", \"01:58\", \"04:34\", \"22:54\", \"23:02\", \"23:23\", \"00:07\", \"02:03\", \"00:44\", \"02:43\", \"22:28\", \"23:14\", \"23:32\", \"23:02\", \"00:04\", \"03:17\", \"23:05\", \"23:04\", \"23:31\", \"23:21\", \"22:57\", \"23:37\", \"01:34\", \"00:07\", \"01:06\", \"22:48\", \"23:07\", \"00:25\", \"22:40\", \"01:04\", \"00:07\", \"22:35\", \"22:59\", \"22:41\", \"23:11\", \"22:39\", \"00:51\", \"02:04\", \"23:16\", \"02:03\", \"00:43\", \"01:30\", \"00:31\", \"01:31\", \"01:12\", \"00:29\", \"01:19\", \"23:45\", \"00:26\", \"23:18\", \"23:36\", \"23:47\", \"00:47\", \"23:58\", \"23:13\", \"23:05\", \"23:19\", \"23:26\", \"23:53\", \"00:53\", \"23:02\", \"22:53\", \"22:39\", \"22:58\", \"23:44\", \"01:27\", \"02:59\", \"23:11\", \"23:56\", \"23:16\", \"07:40\", \"23:26\", \"23:19\", \"00:58\", \"01:59\", \"00:16\", \"02:04\", \"00:44\", \"23:16\", \"07:50\", \"01:05\", \"04:01\", \"19:05\", \"00:59\", \"23:54\", \"23:25\", \"23:17\", \"23:28\", \"23:17\", \"00:04\", \"23:33\", \"23:14\", \"22:53\", \"00:41\", \"00:38\", \"02:45\", \"23:59\", \"05:05\", \"23:10\", \"22:27\", \"22:51\", \"01:48\", \"00:11\", \"23:46\", \"22:56\", \"22:38\", \"22:42\", \"23:30\", \"01:08\", \"01:12\", \"23:08\", \"23:12\", \"23:43\", \"22:55\", \"23:58\", \"23:53\", \"23:05\", \"23:37\", \"23:42\", \"23:35\", \"00:46\", \"00:09\", \"23:10\", \"23:05\", \"02:15\", \"01:34\", \"00:54\", \"00:42\", \"22:50\", \"00:10\", \"00:29\", \"23:21\", \"23:08\", \"23:44\", \"22:57\", \"00:00\", \"23:35\", \"22:55\", \"22:58\", \"23:11\", \"22:56\", \"13:41\", \"00:40\", \"23:08\", \"23:04\", \"23:00\"]}],\n",
       "                        {\"template\": {\"data\": {\"bar\": [{\"error_x\": {\"color\": \"#2a3f5f\"}, \"error_y\": {\"color\": \"#2a3f5f\"}, \"marker\": {\"line\": {\"color\": \"#E5ECF6\", \"width\": 0.5}}, \"type\": \"bar\"}], \"barpolar\": [{\"marker\": {\"line\": {\"color\": \"#E5ECF6\", \"width\": 0.5}}, \"type\": \"barpolar\"}], \"carpet\": [{\"aaxis\": {\"endlinecolor\": \"#2a3f5f\", \"gridcolor\": \"white\", \"linecolor\": \"white\", \"minorgridcolor\": \"white\", \"startlinecolor\": \"#2a3f5f\"}, \"baxis\": {\"endlinecolor\": \"#2a3f5f\", \"gridcolor\": \"white\", \"linecolor\": \"white\", \"minorgridcolor\": \"white\", \"startlinecolor\": \"#2a3f5f\"}, \"type\": \"carpet\"}], \"choropleth\": [{\"colorbar\": {\"outlinewidth\": 0, \"ticks\": \"\"}, \"type\": \"choropleth\"}], \"contour\": [{\"colorbar\": {\"outlinewidth\": 0, \"ticks\": \"\"}, \"colorscale\": [[0.0, \"#0d0887\"], [0.1111111111111111, \"#46039f\"], [0.2222222222222222, \"#7201a8\"], [0.3333333333333333, \"#9c179e\"], [0.4444444444444444, \"#bd3786\"], [0.5555555555555556, \"#d8576b\"], [0.6666666666666666, \"#ed7953\"], [0.7777777777777778, \"#fb9f3a\"], [0.8888888888888888, \"#fdca26\"], [1.0, \"#f0f921\"]], \"type\": \"contour\"}], \"contourcarpet\": [{\"colorbar\": {\"outlinewidth\": 0, \"ticks\": \"\"}, \"type\": \"contourcarpet\"}], \"heatmap\": [{\"colorbar\": {\"outlinewidth\": 0, \"ticks\": \"\"}, \"colorscale\": [[0.0, \"#0d0887\"], [0.1111111111111111, \"#46039f\"], [0.2222222222222222, \"#7201a8\"], [0.3333333333333333, \"#9c179e\"], [0.4444444444444444, \"#bd3786\"], [0.5555555555555556, \"#d8576b\"], [0.6666666666666666, \"#ed7953\"], [0.7777777777777778, \"#fb9f3a\"], [0.8888888888888888, \"#fdca26\"], [1.0, \"#f0f921\"]], \"type\": \"heatmap\"}], \"heatmapgl\": [{\"colorbar\": {\"outlinewidth\": 0, \"ticks\": \"\"}, \"colorscale\": [[0.0, \"#0d0887\"], [0.1111111111111111, \"#46039f\"], [0.2222222222222222, \"#7201a8\"], [0.3333333333333333, \"#9c179e\"], [0.4444444444444444, \"#bd3786\"], [0.5555555555555556, \"#d8576b\"], [0.6666666666666666, \"#ed7953\"], [0.7777777777777778, \"#fb9f3a\"], [0.8888888888888888, \"#fdca26\"], [1.0, \"#f0f921\"]], \"type\": \"heatmapgl\"}], \"histogram\": [{\"marker\": {\"colorbar\": {\"outlinewidth\": 0, \"ticks\": \"\"}}, \"type\": \"histogram\"}], \"histogram2d\": [{\"colorbar\": {\"outlinewidth\": 0, \"ticks\": \"\"}, \"colorscale\": [[0.0, \"#0d0887\"], [0.1111111111111111, \"#46039f\"], [0.2222222222222222, \"#7201a8\"], [0.3333333333333333, \"#9c179e\"], [0.4444444444444444, \"#bd3786\"], [0.5555555555555556, \"#d8576b\"], [0.6666666666666666, \"#ed7953\"], [0.7777777777777778, \"#fb9f3a\"], [0.8888888888888888, \"#fdca26\"], [1.0, \"#f0f921\"]], \"type\": \"histogram2d\"}], \"histogram2dcontour\": [{\"colorbar\": {\"outlinewidth\": 0, \"ticks\": \"\"}, \"colorscale\": [[0.0, \"#0d0887\"], [0.1111111111111111, \"#46039f\"], [0.2222222222222222, \"#7201a8\"], [0.3333333333333333, \"#9c179e\"], [0.4444444444444444, \"#bd3786\"], [0.5555555555555556, \"#d8576b\"], [0.6666666666666666, \"#ed7953\"], [0.7777777777777778, \"#fb9f3a\"], [0.8888888888888888, \"#fdca26\"], [1.0, \"#f0f921\"]], \"type\": \"histogram2dcontour\"}], \"mesh3d\": [{\"colorbar\": {\"outlinewidth\": 0, \"ticks\": \"\"}, \"type\": \"mesh3d\"}], \"parcoords\": [{\"line\": {\"colorbar\": {\"outlinewidth\": 0, \"ticks\": \"\"}}, \"type\": \"parcoords\"}], \"pie\": [{\"automargin\": true, \"type\": \"pie\"}], \"scatter\": [{\"marker\": {\"colorbar\": {\"outlinewidth\": 0, \"ticks\": \"\"}}, \"type\": \"scatter\"}], \"scatter3d\": [{\"line\": {\"colorbar\": {\"outlinewidth\": 0, \"ticks\": \"\"}}, \"marker\": {\"colorbar\": {\"outlinewidth\": 0, \"ticks\": \"\"}}, \"type\": \"scatter3d\"}], \"scattercarpet\": [{\"marker\": {\"colorbar\": {\"outlinewidth\": 0, \"ticks\": \"\"}}, \"type\": \"scattercarpet\"}], \"scattergeo\": [{\"marker\": {\"colorbar\": {\"outlinewidth\": 0, \"ticks\": \"\"}}, \"type\": \"scattergeo\"}], \"scattergl\": [{\"marker\": {\"colorbar\": {\"outlinewidth\": 0, \"ticks\": \"\"}}, \"type\": \"scattergl\"}], \"scattermapbox\": [{\"marker\": {\"colorbar\": {\"outlinewidth\": 0, \"ticks\": \"\"}}, \"type\": \"scattermapbox\"}], \"scatterpolar\": [{\"marker\": {\"colorbar\": {\"outlinewidth\": 0, \"ticks\": \"\"}}, \"type\": \"scatterpolar\"}], \"scatterpolargl\": [{\"marker\": {\"colorbar\": {\"outlinewidth\": 0, \"ticks\": \"\"}}, \"type\": \"scatterpolargl\"}], \"scatterternary\": [{\"marker\": {\"colorbar\": {\"outlinewidth\": 0, \"ticks\": \"\"}}, \"type\": \"scatterternary\"}], \"surface\": [{\"colorbar\": {\"outlinewidth\": 0, \"ticks\": \"\"}, \"colorscale\": [[0.0, \"#0d0887\"], [0.1111111111111111, \"#46039f\"], [0.2222222222222222, \"#7201a8\"], [0.3333333333333333, \"#9c179e\"], [0.4444444444444444, \"#bd3786\"], [0.5555555555555556, \"#d8576b\"], [0.6666666666666666, \"#ed7953\"], [0.7777777777777778, \"#fb9f3a\"], [0.8888888888888888, \"#fdca26\"], [1.0, \"#f0f921\"]], \"type\": \"surface\"}], \"table\": [{\"cells\": {\"fill\": {\"color\": \"#EBF0F8\"}, \"line\": {\"color\": \"white\"}}, \"header\": {\"fill\": {\"color\": \"#C8D4E3\"}, \"line\": {\"color\": \"white\"}}, \"type\": \"table\"}]}, \"layout\": {\"annotationdefaults\": {\"arrowcolor\": \"#2a3f5f\", \"arrowhead\": 0, \"arrowwidth\": 1}, \"coloraxis\": {\"colorbar\": {\"outlinewidth\": 0, \"ticks\": \"\"}}, \"colorscale\": {\"diverging\": [[0, \"#8e0152\"], [0.1, \"#c51b7d\"], [0.2, \"#de77ae\"], [0.3, \"#f1b6da\"], [0.4, \"#fde0ef\"], [0.5, \"#f7f7f7\"], [0.6, \"#e6f5d0\"], [0.7, \"#b8e186\"], [0.8, \"#7fbc41\"], [0.9, \"#4d9221\"], [1, \"#276419\"]], \"sequential\": [[0.0, \"#0d0887\"], [0.1111111111111111, \"#46039f\"], [0.2222222222222222, \"#7201a8\"], [0.3333333333333333, \"#9c179e\"], [0.4444444444444444, \"#bd3786\"], [0.5555555555555556, \"#d8576b\"], [0.6666666666666666, \"#ed7953\"], [0.7777777777777778, \"#fb9f3a\"], [0.8888888888888888, \"#fdca26\"], [1.0, \"#f0f921\"]], \"sequentialminus\": [[0.0, \"#0d0887\"], [0.1111111111111111, \"#46039f\"], [0.2222222222222222, \"#7201a8\"], [0.3333333333333333, \"#9c179e\"], [0.4444444444444444, \"#bd3786\"], [0.5555555555555556, \"#d8576b\"], [0.6666666666666666, \"#ed7953\"], [0.7777777777777778, \"#fb9f3a\"], [0.8888888888888888, \"#fdca26\"], [1.0, \"#f0f921\"]]}, \"colorway\": [\"#636efa\", \"#EF553B\", \"#00cc96\", \"#ab63fa\", \"#FFA15A\", \"#19d3f3\", \"#FF6692\", \"#B6E880\", \"#FF97FF\", \"#FECB52\"], \"font\": {\"color\": \"#2a3f5f\"}, \"geo\": {\"bgcolor\": \"white\", \"lakecolor\": \"white\", \"landcolor\": \"#E5ECF6\", \"showlakes\": true, \"showland\": true, \"subunitcolor\": \"white\"}, \"hoverlabel\": {\"align\": \"left\"}, \"hovermode\": \"closest\", \"mapbox\": {\"style\": \"light\"}, \"paper_bgcolor\": \"white\", \"plot_bgcolor\": \"#E5ECF6\", \"polar\": {\"angularaxis\": {\"gridcolor\": \"white\", \"linecolor\": \"white\", \"ticks\": \"\"}, \"bgcolor\": \"#E5ECF6\", \"radialaxis\": {\"gridcolor\": \"white\", \"linecolor\": \"white\", \"ticks\": \"\"}}, \"scene\": {\"xaxis\": {\"backgroundcolor\": \"#E5ECF6\", \"gridcolor\": \"white\", \"gridwidth\": 2, \"linecolor\": \"white\", \"showbackground\": true, \"ticks\": \"\", \"zerolinecolor\": \"white\"}, \"yaxis\": {\"backgroundcolor\": \"#E5ECF6\", \"gridcolor\": \"white\", \"gridwidth\": 2, \"linecolor\": \"white\", \"showbackground\": true, \"ticks\": \"\", \"zerolinecolor\": \"white\"}, \"zaxis\": {\"backgroundcolor\": \"#E5ECF6\", \"gridcolor\": \"white\", \"gridwidth\": 2, \"linecolor\": \"white\", \"showbackground\": true, \"ticks\": \"\", \"zerolinecolor\": \"white\"}}, \"shapedefaults\": {\"line\": {\"color\": \"#2a3f5f\"}}, \"ternary\": {\"aaxis\": {\"gridcolor\": \"white\", \"linecolor\": \"white\", \"ticks\": \"\"}, \"baxis\": {\"gridcolor\": \"white\", \"linecolor\": \"white\", \"ticks\": \"\"}, \"bgcolor\": \"#E5ECF6\", \"caxis\": {\"gridcolor\": \"white\", \"linecolor\": \"white\", \"ticks\": \"\"}}, \"title\": {\"x\": 0.05}, \"xaxis\": {\"automargin\": true, \"gridcolor\": \"white\", \"linecolor\": \"white\", \"ticks\": \"\", \"title\": {\"standoff\": 15}, \"zerolinecolor\": \"white\", \"zerolinewidth\": 2}, \"yaxis\": {\"automargin\": true, \"gridcolor\": \"white\", \"linecolor\": \"white\", \"ticks\": \"\", \"title\": {\"standoff\": 15}, \"zerolinecolor\": \"white\", \"zerolinewidth\": 2}}}, \"yaxis\": {\"tickmode\": \"array\", \"ticktext\": [\"10:00 PM\", \"11:00 PM\", \"12:00 AM\", \"1:00 AM\", \"2:00 AM\", \"3:00 AM\", \"4:00 AM\", \"5:00 AM\", \"6:00 AM\", \"7:00 AM\", \"8:00 AM\", \"9:00 AM\", \"10:00 AM\", \"11:00 AM\", \"12:00 PM\", \"1:00 PM\", \"2:00 PM\"], \"tickvals\": [20, 21, 22, 23, 0, 1, 2, 3, 4, 5, 6, 7, 8, 9, 10, 11, 12, 13, 14]}},\n",
       "                        {\"responsive\": true}\n",
       "                    ).then(function(){\n",
       "                            \n",
       "var gd = document.getElementById('1aeb1b75-7c1a-4b4a-8858-9cf4f429cdba');\n",
       "var x = new MutationObserver(function (mutations, observer) {{\n",
       "        var display = window.getComputedStyle(gd).display;\n",
       "        if (!display || display === 'none') {{\n",
       "            console.log([gd, 'removed!']);\n",
       "            Plotly.purge(gd);\n",
       "            observer.disconnect();\n",
       "        }}\n",
       "}});\n",
       "\n",
       "// Listen for the removal of the full notebook cells\n",
       "var notebookContainer = gd.closest('#notebook-container');\n",
       "if (notebookContainer) {{\n",
       "    x.observe(notebookContainer, {childList: true});\n",
       "}}\n",
       "\n",
       "// Listen for the clearing of the current output cell\n",
       "var outputEl = gd.closest('.output');\n",
       "if (outputEl) {{\n",
       "    x.observe(outputEl, {childList: true});\n",
       "}}\n",
       "\n",
       "                        })\n",
       "                };\n",
       "                });\n",
       "            </script>\n",
       "        </div>"
      ]
     },
     "metadata": {},
     "output_type": "display_data"
    }
   ],
   "source": [
    "# https://plot.ly/python/tick-formatting/\n",
    "fig = go.Figure([go.Scatter(x=plotable_data['RealStart'], y=plotable_data['StartTime'])])\n",
    "\n",
    "fig.update_layout(\n",
    "    yaxis = dict(\n",
    "        tickmode = 'array',\n",
    "        tickvals = [20, 21, 22, 23, 0, 1, 2, 3, 4, 5, 6, 7, 8, 9, 10, 11, 12, 13, 14],\n",
    "        ticktext = ['10:00 PM', '11:00 PM', '12:00 AM', '1:00 AM' ,'2:00 AM' ,'3:00 AM' ,'4:00 AM' ,'5:00 AM',\n",
    "                    '6:00 AM' ,'7:00 AM' ,'8:00 AM' ,'9:00 AM' ,'10:00 AM' ,'11:00 AM' ,'12:00 PM' ,'1:00 PM' ,'2:00 PM']\n",
    "    )\n",
    ")\n",
    "\n",
    "fig.show()\n"
   ]
  }
 ],
 "metadata": {
  "kernelspec": {
   "display_name": "Python 3",
   "language": "python",
   "name": "python3"
  },
  "language_info": {
   "codemirror_mode": {
    "name": "ipython",
    "version": 3
   },
   "file_extension": ".py",
   "mimetype": "text/x-python",
   "name": "python",
   "nbconvert_exporter": "python",
   "pygments_lexer": "ipython3",
   "version": "3.7.5"
  }
 },
 "nbformat": 4,
 "nbformat_minor": 2
}
